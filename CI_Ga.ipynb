{
  "nbformat": 4,
  "nbformat_minor": 0,
  "metadata": {
    "colab": {
      "name": "CI_Ga.ipynb",
      "provenance": [],
      "collapsed_sections": [],
      "mount_file_id": "1SyVED5zk4eSLotoE-1kW2h-xwErv2sWw",
      "authorship_tag": "ABX9TyOkjXknK+Cwr3JOlfmbhGtX",
      "include_colab_link": true
    },
    "kernelspec": {
      "name": "python3",
      "display_name": "Python 3"
    },
    "language_info": {
      "name": "python"
    },
    "widgets": {
      "application/vnd.jupyter.widget-state+json": {
        "c7147ab6e61c45b285ca4382169d52e6": {
          "model_module": "@jupyter-widgets/controls",
          "model_name": "HBoxModel",
          "state": {
            "_view_name": "HBoxView",
            "_dom_classes": [],
            "_model_name": "HBoxModel",
            "_view_module": "@jupyter-widgets/controls",
            "_model_module_version": "1.5.0",
            "_view_count": null,
            "_view_module_version": "1.5.0",
            "box_style": "",
            "layout": "IPY_MODEL_ab7b0bbb008445d5b7924a1f680bd63d",
            "_model_module": "@jupyter-widgets/controls",
            "children": [
              "IPY_MODEL_64424e97126c45f69ac5d3e583c0d2f9",
              "IPY_MODEL_74996163406e4140b57652b9a8c9017b"
            ]
          }
        },
        "ab7b0bbb008445d5b7924a1f680bd63d": {
          "model_module": "@jupyter-widgets/base",
          "model_name": "LayoutModel",
          "state": {
            "_view_name": "LayoutView",
            "grid_template_rows": null,
            "right": null,
            "justify_content": null,
            "_view_module": "@jupyter-widgets/base",
            "overflow": null,
            "_model_module_version": "1.2.0",
            "_view_count": null,
            "flex_flow": null,
            "width": null,
            "min_width": null,
            "border": null,
            "align_items": null,
            "bottom": null,
            "_model_module": "@jupyter-widgets/base",
            "top": null,
            "grid_column": null,
            "overflow_y": null,
            "overflow_x": null,
            "grid_auto_flow": null,
            "grid_area": null,
            "grid_template_columns": null,
            "flex": null,
            "_model_name": "LayoutModel",
            "justify_items": null,
            "grid_row": null,
            "max_height": null,
            "align_content": null,
            "visibility": null,
            "align_self": null,
            "height": null,
            "min_height": null,
            "padding": null,
            "grid_auto_rows": null,
            "grid_gap": null,
            "max_width": null,
            "order": null,
            "_view_module_version": "1.2.0",
            "grid_template_areas": null,
            "object_position": null,
            "object_fit": null,
            "grid_auto_columns": null,
            "margin": null,
            "display": null,
            "left": null
          }
        },
        "64424e97126c45f69ac5d3e583c0d2f9": {
          "model_module": "@jupyter-widgets/controls",
          "model_name": "FloatProgressModel",
          "state": {
            "_view_name": "ProgressView",
            "style": "IPY_MODEL_d600a50d1b944e0e90305b349de93971",
            "_dom_classes": [],
            "description": "100%",
            "_model_name": "FloatProgressModel",
            "bar_style": "success",
            "max": 1875,
            "_view_module": "@jupyter-widgets/controls",
            "_model_module_version": "1.5.0",
            "value": 1875,
            "_view_count": null,
            "_view_module_version": "1.5.0",
            "orientation": "horizontal",
            "min": 0,
            "description_tooltip": null,
            "_model_module": "@jupyter-widgets/controls",
            "layout": "IPY_MODEL_9863ef91e2484f18a1d43df6942cb5d5"
          }
        },
        "74996163406e4140b57652b9a8c9017b": {
          "model_module": "@jupyter-widgets/controls",
          "model_name": "HTMLModel",
          "state": {
            "_view_name": "HTMLView",
            "style": "IPY_MODEL_4c0f07a953954d458b340e3fd884df31",
            "_dom_classes": [],
            "description": "",
            "_model_name": "HTMLModel",
            "placeholder": "​",
            "_view_module": "@jupyter-widgets/controls",
            "_model_module_version": "1.5.0",
            "value": " 1875/1875 [00:13&lt;00:00, 139.31it/s]",
            "_view_count": null,
            "_view_module_version": "1.5.0",
            "description_tooltip": null,
            "_model_module": "@jupyter-widgets/controls",
            "layout": "IPY_MODEL_167991742c454a9d96e3db5c5caf1065"
          }
        },
        "d600a50d1b944e0e90305b349de93971": {
          "model_module": "@jupyter-widgets/controls",
          "model_name": "ProgressStyleModel",
          "state": {
            "_view_name": "StyleView",
            "_model_name": "ProgressStyleModel",
            "description_width": "initial",
            "_view_module": "@jupyter-widgets/base",
            "_model_module_version": "1.5.0",
            "_view_count": null,
            "_view_module_version": "1.2.0",
            "bar_color": null,
            "_model_module": "@jupyter-widgets/controls"
          }
        },
        "9863ef91e2484f18a1d43df6942cb5d5": {
          "model_module": "@jupyter-widgets/base",
          "model_name": "LayoutModel",
          "state": {
            "_view_name": "LayoutView",
            "grid_template_rows": null,
            "right": null,
            "justify_content": null,
            "_view_module": "@jupyter-widgets/base",
            "overflow": null,
            "_model_module_version": "1.2.0",
            "_view_count": null,
            "flex_flow": null,
            "width": null,
            "min_width": null,
            "border": null,
            "align_items": null,
            "bottom": null,
            "_model_module": "@jupyter-widgets/base",
            "top": null,
            "grid_column": null,
            "overflow_y": null,
            "overflow_x": null,
            "grid_auto_flow": null,
            "grid_area": null,
            "grid_template_columns": null,
            "flex": null,
            "_model_name": "LayoutModel",
            "justify_items": null,
            "grid_row": null,
            "max_height": null,
            "align_content": null,
            "visibility": null,
            "align_self": null,
            "height": null,
            "min_height": null,
            "padding": null,
            "grid_auto_rows": null,
            "grid_gap": null,
            "max_width": null,
            "order": null,
            "_view_module_version": "1.2.0",
            "grid_template_areas": null,
            "object_position": null,
            "object_fit": null,
            "grid_auto_columns": null,
            "margin": null,
            "display": null,
            "left": null
          }
        },
        "4c0f07a953954d458b340e3fd884df31": {
          "model_module": "@jupyter-widgets/controls",
          "model_name": "DescriptionStyleModel",
          "state": {
            "_view_name": "StyleView",
            "_model_name": "DescriptionStyleModel",
            "description_width": "",
            "_view_module": "@jupyter-widgets/base",
            "_model_module_version": "1.5.0",
            "_view_count": null,
            "_view_module_version": "1.2.0",
            "_model_module": "@jupyter-widgets/controls"
          }
        },
        "167991742c454a9d96e3db5c5caf1065": {
          "model_module": "@jupyter-widgets/base",
          "model_name": "LayoutModel",
          "state": {
            "_view_name": "LayoutView",
            "grid_template_rows": null,
            "right": null,
            "justify_content": null,
            "_view_module": "@jupyter-widgets/base",
            "overflow": null,
            "_model_module_version": "1.2.0",
            "_view_count": null,
            "flex_flow": null,
            "width": null,
            "min_width": null,
            "border": null,
            "align_items": null,
            "bottom": null,
            "_model_module": "@jupyter-widgets/base",
            "top": null,
            "grid_column": null,
            "overflow_y": null,
            "overflow_x": null,
            "grid_auto_flow": null,
            "grid_area": null,
            "grid_template_columns": null,
            "flex": null,
            "_model_name": "LayoutModel",
            "justify_items": null,
            "grid_row": null,
            "max_height": null,
            "align_content": null,
            "visibility": null,
            "align_self": null,
            "height": null,
            "min_height": null,
            "padding": null,
            "grid_auto_rows": null,
            "grid_gap": null,
            "max_width": null,
            "order": null,
            "_view_module_version": "1.2.0",
            "grid_template_areas": null,
            "object_position": null,
            "object_fit": null,
            "grid_auto_columns": null,
            "margin": null,
            "display": null,
            "left": null
          }
        },
        "ab5535386ae749cda8c78a5da8f8f912": {
          "model_module": "@jupyter-widgets/controls",
          "model_name": "HBoxModel",
          "state": {
            "_view_name": "HBoxView",
            "_dom_classes": [],
            "_model_name": "HBoxModel",
            "_view_module": "@jupyter-widgets/controls",
            "_model_module_version": "1.5.0",
            "_view_count": null,
            "_view_module_version": "1.5.0",
            "box_style": "",
            "layout": "IPY_MODEL_8319b3667ed04d60a0440328ad053391",
            "_model_module": "@jupyter-widgets/controls",
            "children": [
              "IPY_MODEL_f036ff2a33824ce1803eed2c229ce200",
              "IPY_MODEL_06856a046ee24250ab42066a60017f5c"
            ]
          }
        },
        "8319b3667ed04d60a0440328ad053391": {
          "model_module": "@jupyter-widgets/base",
          "model_name": "LayoutModel",
          "state": {
            "_view_name": "LayoutView",
            "grid_template_rows": null,
            "right": null,
            "justify_content": null,
            "_view_module": "@jupyter-widgets/base",
            "overflow": null,
            "_model_module_version": "1.2.0",
            "_view_count": null,
            "flex_flow": null,
            "width": null,
            "min_width": null,
            "border": null,
            "align_items": null,
            "bottom": null,
            "_model_module": "@jupyter-widgets/base",
            "top": null,
            "grid_column": null,
            "overflow_y": null,
            "overflow_x": null,
            "grid_auto_flow": null,
            "grid_area": null,
            "grid_template_columns": null,
            "flex": null,
            "_model_name": "LayoutModel",
            "justify_items": null,
            "grid_row": null,
            "max_height": null,
            "align_content": null,
            "visibility": null,
            "align_self": null,
            "height": null,
            "min_height": null,
            "padding": null,
            "grid_auto_rows": null,
            "grid_gap": null,
            "max_width": null,
            "order": null,
            "_view_module_version": "1.2.0",
            "grid_template_areas": null,
            "object_position": null,
            "object_fit": null,
            "grid_auto_columns": null,
            "margin": null,
            "display": null,
            "left": null
          }
        },
        "f036ff2a33824ce1803eed2c229ce200": {
          "model_module": "@jupyter-widgets/controls",
          "model_name": "FloatProgressModel",
          "state": {
            "_view_name": "ProgressView",
            "style": "IPY_MODEL_3f548951018d4053b91eff4f419c6cd8",
            "_dom_classes": [],
            "description": "100%",
            "_model_name": "FloatProgressModel",
            "bar_style": "success",
            "max": 1875,
            "_view_module": "@jupyter-widgets/controls",
            "_model_module_version": "1.5.0",
            "value": 1875,
            "_view_count": null,
            "_view_module_version": "1.5.0",
            "orientation": "horizontal",
            "min": 0,
            "description_tooltip": null,
            "_model_module": "@jupyter-widgets/controls",
            "layout": "IPY_MODEL_47f7b958f4fc4a34be594ced3835a369"
          }
        },
        "06856a046ee24250ab42066a60017f5c": {
          "model_module": "@jupyter-widgets/controls",
          "model_name": "HTMLModel",
          "state": {
            "_view_name": "HTMLView",
            "style": "IPY_MODEL_700caf6523ea44a4a120e56079d4adc4",
            "_dom_classes": [],
            "description": "",
            "_model_name": "HTMLModel",
            "placeholder": "​",
            "_view_module": "@jupyter-widgets/controls",
            "_model_module_version": "1.5.0",
            "value": " 1875/1875 [28:52&lt;00:00,  1.08it/s]",
            "_view_count": null,
            "_view_module_version": "1.5.0",
            "description_tooltip": null,
            "_model_module": "@jupyter-widgets/controls",
            "layout": "IPY_MODEL_643c2396d20d46a8971b5139b183574b"
          }
        },
        "3f548951018d4053b91eff4f419c6cd8": {
          "model_module": "@jupyter-widgets/controls",
          "model_name": "ProgressStyleModel",
          "state": {
            "_view_name": "StyleView",
            "_model_name": "ProgressStyleModel",
            "description_width": "initial",
            "_view_module": "@jupyter-widgets/base",
            "_model_module_version": "1.5.0",
            "_view_count": null,
            "_view_module_version": "1.2.0",
            "bar_color": null,
            "_model_module": "@jupyter-widgets/controls"
          }
        },
        "47f7b958f4fc4a34be594ced3835a369": {
          "model_module": "@jupyter-widgets/base",
          "model_name": "LayoutModel",
          "state": {
            "_view_name": "LayoutView",
            "grid_template_rows": null,
            "right": null,
            "justify_content": null,
            "_view_module": "@jupyter-widgets/base",
            "overflow": null,
            "_model_module_version": "1.2.0",
            "_view_count": null,
            "flex_flow": null,
            "width": null,
            "min_width": null,
            "border": null,
            "align_items": null,
            "bottom": null,
            "_model_module": "@jupyter-widgets/base",
            "top": null,
            "grid_column": null,
            "overflow_y": null,
            "overflow_x": null,
            "grid_auto_flow": null,
            "grid_area": null,
            "grid_template_columns": null,
            "flex": null,
            "_model_name": "LayoutModel",
            "justify_items": null,
            "grid_row": null,
            "max_height": null,
            "align_content": null,
            "visibility": null,
            "align_self": null,
            "height": null,
            "min_height": null,
            "padding": null,
            "grid_auto_rows": null,
            "grid_gap": null,
            "max_width": null,
            "order": null,
            "_view_module_version": "1.2.0",
            "grid_template_areas": null,
            "object_position": null,
            "object_fit": null,
            "grid_auto_columns": null,
            "margin": null,
            "display": null,
            "left": null
          }
        },
        "700caf6523ea44a4a120e56079d4adc4": {
          "model_module": "@jupyter-widgets/controls",
          "model_name": "DescriptionStyleModel",
          "state": {
            "_view_name": "StyleView",
            "_model_name": "DescriptionStyleModel",
            "description_width": "",
            "_view_module": "@jupyter-widgets/base",
            "_model_module_version": "1.5.0",
            "_view_count": null,
            "_view_module_version": "1.2.0",
            "_model_module": "@jupyter-widgets/controls"
          }
        },
        "643c2396d20d46a8971b5139b183574b": {
          "model_module": "@jupyter-widgets/base",
          "model_name": "LayoutModel",
          "state": {
            "_view_name": "LayoutView",
            "grid_template_rows": null,
            "right": null,
            "justify_content": null,
            "_view_module": "@jupyter-widgets/base",
            "overflow": null,
            "_model_module_version": "1.2.0",
            "_view_count": null,
            "flex_flow": null,
            "width": null,
            "min_width": null,
            "border": null,
            "align_items": null,
            "bottom": null,
            "_model_module": "@jupyter-widgets/base",
            "top": null,
            "grid_column": null,
            "overflow_y": null,
            "overflow_x": null,
            "grid_auto_flow": null,
            "grid_area": null,
            "grid_template_columns": null,
            "flex": null,
            "_model_name": "LayoutModel",
            "justify_items": null,
            "grid_row": null,
            "max_height": null,
            "align_content": null,
            "visibility": null,
            "align_self": null,
            "height": null,
            "min_height": null,
            "padding": null,
            "grid_auto_rows": null,
            "grid_gap": null,
            "max_width": null,
            "order": null,
            "_view_module_version": "1.2.0",
            "grid_template_areas": null,
            "object_position": null,
            "object_fit": null,
            "grid_auto_columns": null,
            "margin": null,
            "display": null,
            "left": null
          }
        },
        "95f8c6b619e049879f1e45da104ea68b": {
          "model_module": "@jupyter-widgets/controls",
          "model_name": "HBoxModel",
          "state": {
            "_view_name": "HBoxView",
            "_dom_classes": [],
            "_model_name": "HBoxModel",
            "_view_module": "@jupyter-widgets/controls",
            "_model_module_version": "1.5.0",
            "_view_count": null,
            "_view_module_version": "1.5.0",
            "box_style": "",
            "layout": "IPY_MODEL_b10f5cc85d5048f8be560ab3adb383fa",
            "_model_module": "@jupyter-widgets/controls",
            "children": [
              "IPY_MODEL_06d53b0d769340e4a81cdf88817f694b",
              "IPY_MODEL_49b8e463e4ac484aa021ab1580db805f"
            ]
          }
        },
        "b10f5cc85d5048f8be560ab3adb383fa": {
          "model_module": "@jupyter-widgets/base",
          "model_name": "LayoutModel",
          "state": {
            "_view_name": "LayoutView",
            "grid_template_rows": null,
            "right": null,
            "justify_content": null,
            "_view_module": "@jupyter-widgets/base",
            "overflow": null,
            "_model_module_version": "1.2.0",
            "_view_count": null,
            "flex_flow": null,
            "width": null,
            "min_width": null,
            "border": null,
            "align_items": null,
            "bottom": null,
            "_model_module": "@jupyter-widgets/base",
            "top": null,
            "grid_column": null,
            "overflow_y": null,
            "overflow_x": null,
            "grid_auto_flow": null,
            "grid_area": null,
            "grid_template_columns": null,
            "flex": null,
            "_model_name": "LayoutModel",
            "justify_items": null,
            "grid_row": null,
            "max_height": null,
            "align_content": null,
            "visibility": null,
            "align_self": null,
            "height": null,
            "min_height": null,
            "padding": null,
            "grid_auto_rows": null,
            "grid_gap": null,
            "max_width": null,
            "order": null,
            "_view_module_version": "1.2.0",
            "grid_template_areas": null,
            "object_position": null,
            "object_fit": null,
            "grid_auto_columns": null,
            "margin": null,
            "display": null,
            "left": null
          }
        },
        "06d53b0d769340e4a81cdf88817f694b": {
          "model_module": "@jupyter-widgets/controls",
          "model_name": "FloatProgressModel",
          "state": {
            "_view_name": "ProgressView",
            "style": "IPY_MODEL_71c041f7df7540e2ac8d2cb46152e1bf",
            "_dom_classes": [],
            "description": "100%",
            "_model_name": "FloatProgressModel",
            "bar_style": "success",
            "max": 1875,
            "_view_module": "@jupyter-widgets/controls",
            "_model_module_version": "1.5.0",
            "value": 1875,
            "_view_count": null,
            "_view_module_version": "1.5.0",
            "orientation": "horizontal",
            "min": 0,
            "description_tooltip": null,
            "_model_module": "@jupyter-widgets/controls",
            "layout": "IPY_MODEL_267704ee595f44e0bb6de21e1b293a87"
          }
        },
        "49b8e463e4ac484aa021ab1580db805f": {
          "model_module": "@jupyter-widgets/controls",
          "model_name": "HTMLModel",
          "state": {
            "_view_name": "HTMLView",
            "style": "IPY_MODEL_63c24ca00d294d81a43321a63024cc48",
            "_dom_classes": [],
            "description": "",
            "_model_name": "HTMLModel",
            "placeholder": "​",
            "_view_module": "@jupyter-widgets/controls",
            "_model_module_version": "1.5.0",
            "value": " 1875/1875 [00:13&lt;00:00, 139.84it/s]",
            "_view_count": null,
            "_view_module_version": "1.5.0",
            "description_tooltip": null,
            "_model_module": "@jupyter-widgets/controls",
            "layout": "IPY_MODEL_031773818f1049cb9a3d204b8c2d59ea"
          }
        },
        "71c041f7df7540e2ac8d2cb46152e1bf": {
          "model_module": "@jupyter-widgets/controls",
          "model_name": "ProgressStyleModel",
          "state": {
            "_view_name": "StyleView",
            "_model_name": "ProgressStyleModel",
            "description_width": "initial",
            "_view_module": "@jupyter-widgets/base",
            "_model_module_version": "1.5.0",
            "_view_count": null,
            "_view_module_version": "1.2.0",
            "bar_color": null,
            "_model_module": "@jupyter-widgets/controls"
          }
        },
        "267704ee595f44e0bb6de21e1b293a87": {
          "model_module": "@jupyter-widgets/base",
          "model_name": "LayoutModel",
          "state": {
            "_view_name": "LayoutView",
            "grid_template_rows": null,
            "right": null,
            "justify_content": null,
            "_view_module": "@jupyter-widgets/base",
            "overflow": null,
            "_model_module_version": "1.2.0",
            "_view_count": null,
            "flex_flow": null,
            "width": null,
            "min_width": null,
            "border": null,
            "align_items": null,
            "bottom": null,
            "_model_module": "@jupyter-widgets/base",
            "top": null,
            "grid_column": null,
            "overflow_y": null,
            "overflow_x": null,
            "grid_auto_flow": null,
            "grid_area": null,
            "grid_template_columns": null,
            "flex": null,
            "_model_name": "LayoutModel",
            "justify_items": null,
            "grid_row": null,
            "max_height": null,
            "align_content": null,
            "visibility": null,
            "align_self": null,
            "height": null,
            "min_height": null,
            "padding": null,
            "grid_auto_rows": null,
            "grid_gap": null,
            "max_width": null,
            "order": null,
            "_view_module_version": "1.2.0",
            "grid_template_areas": null,
            "object_position": null,
            "object_fit": null,
            "grid_auto_columns": null,
            "margin": null,
            "display": null,
            "left": null
          }
        },
        "63c24ca00d294d81a43321a63024cc48": {
          "model_module": "@jupyter-widgets/controls",
          "model_name": "DescriptionStyleModel",
          "state": {
            "_view_name": "StyleView",
            "_model_name": "DescriptionStyleModel",
            "description_width": "",
            "_view_module": "@jupyter-widgets/base",
            "_model_module_version": "1.5.0",
            "_view_count": null,
            "_view_module_version": "1.2.0",
            "_model_module": "@jupyter-widgets/controls"
          }
        },
        "031773818f1049cb9a3d204b8c2d59ea": {
          "model_module": "@jupyter-widgets/base",
          "model_name": "LayoutModel",
          "state": {
            "_view_name": "LayoutView",
            "grid_template_rows": null,
            "right": null,
            "justify_content": null,
            "_view_module": "@jupyter-widgets/base",
            "overflow": null,
            "_model_module_version": "1.2.0",
            "_view_count": null,
            "flex_flow": null,
            "width": null,
            "min_width": null,
            "border": null,
            "align_items": null,
            "bottom": null,
            "_model_module": "@jupyter-widgets/base",
            "top": null,
            "grid_column": null,
            "overflow_y": null,
            "overflow_x": null,
            "grid_auto_flow": null,
            "grid_area": null,
            "grid_template_columns": null,
            "flex": null,
            "_model_name": "LayoutModel",
            "justify_items": null,
            "grid_row": null,
            "max_height": null,
            "align_content": null,
            "visibility": null,
            "align_self": null,
            "height": null,
            "min_height": null,
            "padding": null,
            "grid_auto_rows": null,
            "grid_gap": null,
            "max_width": null,
            "order": null,
            "_view_module_version": "1.2.0",
            "grid_template_areas": null,
            "object_position": null,
            "object_fit": null,
            "grid_auto_columns": null,
            "margin": null,
            "display": null,
            "left": null
          }
        },
        "e6d1e56c51bf4772a413873ec3f4e7e6": {
          "model_module": "@jupyter-widgets/controls",
          "model_name": "HBoxModel",
          "state": {
            "_view_name": "HBoxView",
            "_dom_classes": [],
            "_model_name": "HBoxModel",
            "_view_module": "@jupyter-widgets/controls",
            "_model_module_version": "1.5.0",
            "_view_count": null,
            "_view_module_version": "1.5.0",
            "box_style": "",
            "layout": "IPY_MODEL_6e2b15126a5047a3841ed9d443865e3c",
            "_model_module": "@jupyter-widgets/controls",
            "children": [
              "IPY_MODEL_3fd2e7d325b545668c1e55b14324429f",
              "IPY_MODEL_d8659ead7828480085df77268fe964c8"
            ]
          }
        },
        "6e2b15126a5047a3841ed9d443865e3c": {
          "model_module": "@jupyter-widgets/base",
          "model_name": "LayoutModel",
          "state": {
            "_view_name": "LayoutView",
            "grid_template_rows": null,
            "right": null,
            "justify_content": null,
            "_view_module": "@jupyter-widgets/base",
            "overflow": null,
            "_model_module_version": "1.2.0",
            "_view_count": null,
            "flex_flow": null,
            "width": null,
            "min_width": null,
            "border": null,
            "align_items": null,
            "bottom": null,
            "_model_module": "@jupyter-widgets/base",
            "top": null,
            "grid_column": null,
            "overflow_y": null,
            "overflow_x": null,
            "grid_auto_flow": null,
            "grid_area": null,
            "grid_template_columns": null,
            "flex": null,
            "_model_name": "LayoutModel",
            "justify_items": null,
            "grid_row": null,
            "max_height": null,
            "align_content": null,
            "visibility": null,
            "align_self": null,
            "height": null,
            "min_height": null,
            "padding": null,
            "grid_auto_rows": null,
            "grid_gap": null,
            "max_width": null,
            "order": null,
            "_view_module_version": "1.2.0",
            "grid_template_areas": null,
            "object_position": null,
            "object_fit": null,
            "grid_auto_columns": null,
            "margin": null,
            "display": null,
            "left": null
          }
        },
        "3fd2e7d325b545668c1e55b14324429f": {
          "model_module": "@jupyter-widgets/controls",
          "model_name": "FloatProgressModel",
          "state": {
            "_view_name": "ProgressView",
            "style": "IPY_MODEL_7f48c8a6a93d40aeb5f7bda56a3b4e51",
            "_dom_classes": [],
            "description": "100%",
            "_model_name": "FloatProgressModel",
            "bar_style": "success",
            "max": 1875,
            "_view_module": "@jupyter-widgets/controls",
            "_model_module_version": "1.5.0",
            "value": 1875,
            "_view_count": null,
            "_view_module_version": "1.5.0",
            "orientation": "horizontal",
            "min": 0,
            "description_tooltip": null,
            "_model_module": "@jupyter-widgets/controls",
            "layout": "IPY_MODEL_77ccab5634d74a89a28379f022e74650"
          }
        },
        "d8659ead7828480085df77268fe964c8": {
          "model_module": "@jupyter-widgets/controls",
          "model_name": "HTMLModel",
          "state": {
            "_view_name": "HTMLView",
            "style": "IPY_MODEL_464429b8ccf54e1fa2c785b4e3017232",
            "_dom_classes": [],
            "description": "",
            "_model_name": "HTMLModel",
            "placeholder": "​",
            "_view_module": "@jupyter-widgets/controls",
            "_model_module_version": "1.5.0",
            "value": " 1875/1875 [28:25&lt;00:00,  1.10it/s]",
            "_view_count": null,
            "_view_module_version": "1.5.0",
            "description_tooltip": null,
            "_model_module": "@jupyter-widgets/controls",
            "layout": "IPY_MODEL_81c14b26acd34540a668d4cd853cfcc8"
          }
        },
        "7f48c8a6a93d40aeb5f7bda56a3b4e51": {
          "model_module": "@jupyter-widgets/controls",
          "model_name": "ProgressStyleModel",
          "state": {
            "_view_name": "StyleView",
            "_model_name": "ProgressStyleModel",
            "description_width": "initial",
            "_view_module": "@jupyter-widgets/base",
            "_model_module_version": "1.5.0",
            "_view_count": null,
            "_view_module_version": "1.2.0",
            "bar_color": null,
            "_model_module": "@jupyter-widgets/controls"
          }
        },
        "77ccab5634d74a89a28379f022e74650": {
          "model_module": "@jupyter-widgets/base",
          "model_name": "LayoutModel",
          "state": {
            "_view_name": "LayoutView",
            "grid_template_rows": null,
            "right": null,
            "justify_content": null,
            "_view_module": "@jupyter-widgets/base",
            "overflow": null,
            "_model_module_version": "1.2.0",
            "_view_count": null,
            "flex_flow": null,
            "width": null,
            "min_width": null,
            "border": null,
            "align_items": null,
            "bottom": null,
            "_model_module": "@jupyter-widgets/base",
            "top": null,
            "grid_column": null,
            "overflow_y": null,
            "overflow_x": null,
            "grid_auto_flow": null,
            "grid_area": null,
            "grid_template_columns": null,
            "flex": null,
            "_model_name": "LayoutModel",
            "justify_items": null,
            "grid_row": null,
            "max_height": null,
            "align_content": null,
            "visibility": null,
            "align_self": null,
            "height": null,
            "min_height": null,
            "padding": null,
            "grid_auto_rows": null,
            "grid_gap": null,
            "max_width": null,
            "order": null,
            "_view_module_version": "1.2.0",
            "grid_template_areas": null,
            "object_position": null,
            "object_fit": null,
            "grid_auto_columns": null,
            "margin": null,
            "display": null,
            "left": null
          }
        },
        "464429b8ccf54e1fa2c785b4e3017232": {
          "model_module": "@jupyter-widgets/controls",
          "model_name": "DescriptionStyleModel",
          "state": {
            "_view_name": "StyleView",
            "_model_name": "DescriptionStyleModel",
            "description_width": "",
            "_view_module": "@jupyter-widgets/base",
            "_model_module_version": "1.5.0",
            "_view_count": null,
            "_view_module_version": "1.2.0",
            "_model_module": "@jupyter-widgets/controls"
          }
        },
        "81c14b26acd34540a668d4cd853cfcc8": {
          "model_module": "@jupyter-widgets/base",
          "model_name": "LayoutModel",
          "state": {
            "_view_name": "LayoutView",
            "grid_template_rows": null,
            "right": null,
            "justify_content": null,
            "_view_module": "@jupyter-widgets/base",
            "overflow": null,
            "_model_module_version": "1.2.0",
            "_view_count": null,
            "flex_flow": null,
            "width": null,
            "min_width": null,
            "border": null,
            "align_items": null,
            "bottom": null,
            "_model_module": "@jupyter-widgets/base",
            "top": null,
            "grid_column": null,
            "overflow_y": null,
            "overflow_x": null,
            "grid_auto_flow": null,
            "grid_area": null,
            "grid_template_columns": null,
            "flex": null,
            "_model_name": "LayoutModel",
            "justify_items": null,
            "grid_row": null,
            "max_height": null,
            "align_content": null,
            "visibility": null,
            "align_self": null,
            "height": null,
            "min_height": null,
            "padding": null,
            "grid_auto_rows": null,
            "grid_gap": null,
            "max_width": null,
            "order": null,
            "_view_module_version": "1.2.0",
            "grid_template_areas": null,
            "object_position": null,
            "object_fit": null,
            "grid_auto_columns": null,
            "margin": null,
            "display": null,
            "left": null
          }
        },
        "4ff3124f3b024b2c8212e8c2e9ac74a4": {
          "model_module": "@jupyter-widgets/controls",
          "model_name": "HBoxModel",
          "state": {
            "_view_name": "HBoxView",
            "_dom_classes": [],
            "_model_name": "HBoxModel",
            "_view_module": "@jupyter-widgets/controls",
            "_model_module_version": "1.5.0",
            "_view_count": null,
            "_view_module_version": "1.5.0",
            "box_style": "",
            "layout": "IPY_MODEL_7d3e140fa58e47ffba1cafbaba0860ae",
            "_model_module": "@jupyter-widgets/controls",
            "children": [
              "IPY_MODEL_d4699f29989f41aa8dcecea7070caad0",
              "IPY_MODEL_cf450bf7d866424d934ad153081c4d3a"
            ]
          }
        },
        "7d3e140fa58e47ffba1cafbaba0860ae": {
          "model_module": "@jupyter-widgets/base",
          "model_name": "LayoutModel",
          "state": {
            "_view_name": "LayoutView",
            "grid_template_rows": null,
            "right": null,
            "justify_content": null,
            "_view_module": "@jupyter-widgets/base",
            "overflow": null,
            "_model_module_version": "1.2.0",
            "_view_count": null,
            "flex_flow": null,
            "width": null,
            "min_width": null,
            "border": null,
            "align_items": null,
            "bottom": null,
            "_model_module": "@jupyter-widgets/base",
            "top": null,
            "grid_column": null,
            "overflow_y": null,
            "overflow_x": null,
            "grid_auto_flow": null,
            "grid_area": null,
            "grid_template_columns": null,
            "flex": null,
            "_model_name": "LayoutModel",
            "justify_items": null,
            "grid_row": null,
            "max_height": null,
            "align_content": null,
            "visibility": null,
            "align_self": null,
            "height": null,
            "min_height": null,
            "padding": null,
            "grid_auto_rows": null,
            "grid_gap": null,
            "max_width": null,
            "order": null,
            "_view_module_version": "1.2.0",
            "grid_template_areas": null,
            "object_position": null,
            "object_fit": null,
            "grid_auto_columns": null,
            "margin": null,
            "display": null,
            "left": null
          }
        },
        "d4699f29989f41aa8dcecea7070caad0": {
          "model_module": "@jupyter-widgets/controls",
          "model_name": "FloatProgressModel",
          "state": {
            "_view_name": "ProgressView",
            "style": "IPY_MODEL_be4d9930339f47978771346626b6be3c",
            "_dom_classes": [],
            "description": "100%",
            "_model_name": "FloatProgressModel",
            "bar_style": "success",
            "max": 313,
            "_view_module": "@jupyter-widgets/controls",
            "_model_module_version": "1.5.0",
            "value": 313,
            "_view_count": null,
            "_view_module_version": "1.5.0",
            "orientation": "horizontal",
            "min": 0,
            "description_tooltip": null,
            "_model_module": "@jupyter-widgets/controls",
            "layout": "IPY_MODEL_aa7f6d78331f4fa8a1a92c7a7992ed1f"
          }
        },
        "cf450bf7d866424d934ad153081c4d3a": {
          "model_module": "@jupyter-widgets/controls",
          "model_name": "HTMLModel",
          "state": {
            "_view_name": "HTMLView",
            "style": "IPY_MODEL_db022d9a5c4a44d1ae072ee0b5bf7ce4",
            "_dom_classes": [],
            "description": "",
            "_model_name": "HTMLModel",
            "placeholder": "​",
            "_view_module": "@jupyter-widgets/controls",
            "_model_module_version": "1.5.0",
            "value": " 313/313 [13:32&lt;00:00,  2.59s/it]",
            "_view_count": null,
            "_view_module_version": "1.5.0",
            "description_tooltip": null,
            "_model_module": "@jupyter-widgets/controls",
            "layout": "IPY_MODEL_a62cac16ecfc43bb9a89a0f821e4e64f"
          }
        },
        "be4d9930339f47978771346626b6be3c": {
          "model_module": "@jupyter-widgets/controls",
          "model_name": "ProgressStyleModel",
          "state": {
            "_view_name": "StyleView",
            "_model_name": "ProgressStyleModel",
            "description_width": "initial",
            "_view_module": "@jupyter-widgets/base",
            "_model_module_version": "1.5.0",
            "_view_count": null,
            "_view_module_version": "1.2.0",
            "bar_color": null,
            "_model_module": "@jupyter-widgets/controls"
          }
        },
        "aa7f6d78331f4fa8a1a92c7a7992ed1f": {
          "model_module": "@jupyter-widgets/base",
          "model_name": "LayoutModel",
          "state": {
            "_view_name": "LayoutView",
            "grid_template_rows": null,
            "right": null,
            "justify_content": null,
            "_view_module": "@jupyter-widgets/base",
            "overflow": null,
            "_model_module_version": "1.2.0",
            "_view_count": null,
            "flex_flow": null,
            "width": null,
            "min_width": null,
            "border": null,
            "align_items": null,
            "bottom": null,
            "_model_module": "@jupyter-widgets/base",
            "top": null,
            "grid_column": null,
            "overflow_y": null,
            "overflow_x": null,
            "grid_auto_flow": null,
            "grid_area": null,
            "grid_template_columns": null,
            "flex": null,
            "_model_name": "LayoutModel",
            "justify_items": null,
            "grid_row": null,
            "max_height": null,
            "align_content": null,
            "visibility": null,
            "align_self": null,
            "height": null,
            "min_height": null,
            "padding": null,
            "grid_auto_rows": null,
            "grid_gap": null,
            "max_width": null,
            "order": null,
            "_view_module_version": "1.2.0",
            "grid_template_areas": null,
            "object_position": null,
            "object_fit": null,
            "grid_auto_columns": null,
            "margin": null,
            "display": null,
            "left": null
          }
        },
        "db022d9a5c4a44d1ae072ee0b5bf7ce4": {
          "model_module": "@jupyter-widgets/controls",
          "model_name": "DescriptionStyleModel",
          "state": {
            "_view_name": "StyleView",
            "_model_name": "DescriptionStyleModel",
            "description_width": "",
            "_view_module": "@jupyter-widgets/base",
            "_model_module_version": "1.5.0",
            "_view_count": null,
            "_view_module_version": "1.2.0",
            "_model_module": "@jupyter-widgets/controls"
          }
        },
        "a62cac16ecfc43bb9a89a0f821e4e64f": {
          "model_module": "@jupyter-widgets/base",
          "model_name": "LayoutModel",
          "state": {
            "_view_name": "LayoutView",
            "grid_template_rows": null,
            "right": null,
            "justify_content": null,
            "_view_module": "@jupyter-widgets/base",
            "overflow": null,
            "_model_module_version": "1.2.0",
            "_view_count": null,
            "flex_flow": null,
            "width": null,
            "min_width": null,
            "border": null,
            "align_items": null,
            "bottom": null,
            "_model_module": "@jupyter-widgets/base",
            "top": null,
            "grid_column": null,
            "overflow_y": null,
            "overflow_x": null,
            "grid_auto_flow": null,
            "grid_area": null,
            "grid_template_columns": null,
            "flex": null,
            "_model_name": "LayoutModel",
            "justify_items": null,
            "grid_row": null,
            "max_height": null,
            "align_content": null,
            "visibility": null,
            "align_self": null,
            "height": null,
            "min_height": null,
            "padding": null,
            "grid_auto_rows": null,
            "grid_gap": null,
            "max_width": null,
            "order": null,
            "_view_module_version": "1.2.0",
            "grid_template_areas": null,
            "object_position": null,
            "object_fit": null,
            "grid_auto_columns": null,
            "margin": null,
            "display": null,
            "left": null
          }
        },
        "38dc2f62376944f69f1217e6819b9170": {
          "model_module": "@jupyter-widgets/controls",
          "model_name": "HBoxModel",
          "state": {
            "_view_name": "HBoxView",
            "_dom_classes": [],
            "_model_name": "HBoxModel",
            "_view_module": "@jupyter-widgets/controls",
            "_model_module_version": "1.5.0",
            "_view_count": null,
            "_view_module_version": "1.5.0",
            "box_style": "",
            "layout": "IPY_MODEL_e97c65fc1e7448d288c5f07583cc022c",
            "_model_module": "@jupyter-widgets/controls",
            "children": [
              "IPY_MODEL_224f3eb5c8aa4339ad34fa10d700e626",
              "IPY_MODEL_7318acf3b42e4248b57d8f4548f97de9"
            ]
          }
        },
        "e97c65fc1e7448d288c5f07583cc022c": {
          "model_module": "@jupyter-widgets/base",
          "model_name": "LayoutModel",
          "state": {
            "_view_name": "LayoutView",
            "grid_template_rows": null,
            "right": null,
            "justify_content": null,
            "_view_module": "@jupyter-widgets/base",
            "overflow": null,
            "_model_module_version": "1.2.0",
            "_view_count": null,
            "flex_flow": null,
            "width": null,
            "min_width": null,
            "border": null,
            "align_items": null,
            "bottom": null,
            "_model_module": "@jupyter-widgets/base",
            "top": null,
            "grid_column": null,
            "overflow_y": null,
            "overflow_x": null,
            "grid_auto_flow": null,
            "grid_area": null,
            "grid_template_columns": null,
            "flex": null,
            "_model_name": "LayoutModel",
            "justify_items": null,
            "grid_row": null,
            "max_height": null,
            "align_content": null,
            "visibility": null,
            "align_self": null,
            "height": null,
            "min_height": null,
            "padding": null,
            "grid_auto_rows": null,
            "grid_gap": null,
            "max_width": null,
            "order": null,
            "_view_module_version": "1.2.0",
            "grid_template_areas": null,
            "object_position": null,
            "object_fit": null,
            "grid_auto_columns": null,
            "margin": null,
            "display": null,
            "left": null
          }
        },
        "224f3eb5c8aa4339ad34fa10d700e626": {
          "model_module": "@jupyter-widgets/controls",
          "model_name": "FloatProgressModel",
          "state": {
            "_view_name": "ProgressView",
            "style": "IPY_MODEL_416664dbe2fe4e1e9bf8410194ce5455",
            "_dom_classes": [],
            "description": "100%",
            "_model_name": "FloatProgressModel",
            "bar_style": "success",
            "max": 313,
            "_view_module": "@jupyter-widgets/controls",
            "_model_module_version": "1.5.0",
            "value": 313,
            "_view_count": null,
            "_view_module_version": "1.5.0",
            "orientation": "horizontal",
            "min": 0,
            "description_tooltip": null,
            "_model_module": "@jupyter-widgets/controls",
            "layout": "IPY_MODEL_2d2f447667844d27a9e9006c44c6ce5a"
          }
        },
        "7318acf3b42e4248b57d8f4548f97de9": {
          "model_module": "@jupyter-widgets/controls",
          "model_name": "HTMLModel",
          "state": {
            "_view_name": "HTMLView",
            "style": "IPY_MODEL_742d7c7e6ad24545be4ffce773920ce0",
            "_dom_classes": [],
            "description": "",
            "_model_name": "HTMLModel",
            "placeholder": "​",
            "_view_module": "@jupyter-widgets/controls",
            "_model_module_version": "1.5.0",
            "value": " 313/313 [00:02&lt;00:00, 141.84it/s]",
            "_view_count": null,
            "_view_module_version": "1.5.0",
            "description_tooltip": null,
            "_model_module": "@jupyter-widgets/controls",
            "layout": "IPY_MODEL_149c04a2722c4f78b0494c9345eafd9d"
          }
        },
        "416664dbe2fe4e1e9bf8410194ce5455": {
          "model_module": "@jupyter-widgets/controls",
          "model_name": "ProgressStyleModel",
          "state": {
            "_view_name": "StyleView",
            "_model_name": "ProgressStyleModel",
            "description_width": "initial",
            "_view_module": "@jupyter-widgets/base",
            "_model_module_version": "1.5.0",
            "_view_count": null,
            "_view_module_version": "1.2.0",
            "bar_color": null,
            "_model_module": "@jupyter-widgets/controls"
          }
        },
        "2d2f447667844d27a9e9006c44c6ce5a": {
          "model_module": "@jupyter-widgets/base",
          "model_name": "LayoutModel",
          "state": {
            "_view_name": "LayoutView",
            "grid_template_rows": null,
            "right": null,
            "justify_content": null,
            "_view_module": "@jupyter-widgets/base",
            "overflow": null,
            "_model_module_version": "1.2.0",
            "_view_count": null,
            "flex_flow": null,
            "width": null,
            "min_width": null,
            "border": null,
            "align_items": null,
            "bottom": null,
            "_model_module": "@jupyter-widgets/base",
            "top": null,
            "grid_column": null,
            "overflow_y": null,
            "overflow_x": null,
            "grid_auto_flow": null,
            "grid_area": null,
            "grid_template_columns": null,
            "flex": null,
            "_model_name": "LayoutModel",
            "justify_items": null,
            "grid_row": null,
            "max_height": null,
            "align_content": null,
            "visibility": null,
            "align_self": null,
            "height": null,
            "min_height": null,
            "padding": null,
            "grid_auto_rows": null,
            "grid_gap": null,
            "max_width": null,
            "order": null,
            "_view_module_version": "1.2.0",
            "grid_template_areas": null,
            "object_position": null,
            "object_fit": null,
            "grid_auto_columns": null,
            "margin": null,
            "display": null,
            "left": null
          }
        },
        "742d7c7e6ad24545be4ffce773920ce0": {
          "model_module": "@jupyter-widgets/controls",
          "model_name": "DescriptionStyleModel",
          "state": {
            "_view_name": "StyleView",
            "_model_name": "DescriptionStyleModel",
            "description_width": "",
            "_view_module": "@jupyter-widgets/base",
            "_model_module_version": "1.5.0",
            "_view_count": null,
            "_view_module_version": "1.2.0",
            "_model_module": "@jupyter-widgets/controls"
          }
        },
        "149c04a2722c4f78b0494c9345eafd9d": {
          "model_module": "@jupyter-widgets/base",
          "model_name": "LayoutModel",
          "state": {
            "_view_name": "LayoutView",
            "grid_template_rows": null,
            "right": null,
            "justify_content": null,
            "_view_module": "@jupyter-widgets/base",
            "overflow": null,
            "_model_module_version": "1.2.0",
            "_view_count": null,
            "flex_flow": null,
            "width": null,
            "min_width": null,
            "border": null,
            "align_items": null,
            "bottom": null,
            "_model_module": "@jupyter-widgets/base",
            "top": null,
            "grid_column": null,
            "overflow_y": null,
            "overflow_x": null,
            "grid_auto_flow": null,
            "grid_area": null,
            "grid_template_columns": null,
            "flex": null,
            "_model_name": "LayoutModel",
            "justify_items": null,
            "grid_row": null,
            "max_height": null,
            "align_content": null,
            "visibility": null,
            "align_self": null,
            "height": null,
            "min_height": null,
            "padding": null,
            "grid_auto_rows": null,
            "grid_gap": null,
            "max_width": null,
            "order": null,
            "_view_module_version": "1.2.0",
            "grid_template_areas": null,
            "object_position": null,
            "object_fit": null,
            "grid_auto_columns": null,
            "margin": null,
            "display": null,
            "left": null
          }
        }
      }
    },
    "accelerator": "GPU"
  },
  "cells": [
    {
      "cell_type": "markdown",
      "metadata": {
        "id": "view-in-github",
        "colab_type": "text"
      },
      "source": [
        "<a href=\"https://colab.research.google.com/github/wzrd13/CI_project_partB/blob/main/CI_Ga.ipynb\" target=\"_parent\"><img src=\"https://colab.research.google.com/assets/colab-badge.svg\" alt=\"Open In Colab\"/></a>"
      ]
    },
    {
      "cell_type": "markdown",
      "metadata": {
        "id": "H0JeOT77vkds"
      },
      "source": [
        "# ΥΠΟΛΟΓΙΣΤΙΚΗ ΝΟΗΜΟΣΥΝΗ \n",
        "## Μέρος B\n",
        "\n",
        "> **Βασίλης Χαράλαμπος Αυγερινός ΑΜ: 1054298**   \n",
        "> **Github link:** [https://github.com/wzrd13/CI_project_2021](https://github.com/wzrd13/CI_project_2021)"
      ]
    },
    {
      "cell_type": "markdown",
      "metadata": {
        "id": "iDD6xHHMFWHY"
      },
      "source": [
        "Παρακάτω ακολουθεί η αναφορά μαζί με τον κώδικα για το μέρος Β της εργαστηριακής\n",
        "άσκησης. Στα πειράματα με πληθυσμό 200 λόγο ανεπάρκειας σε υπολογιστή ισχύ (ο χρόνος εκτέλεσης για να τερματίσει μια φορά ο γενετικός αλγόριθμος ήταν μεγαλύτερος από 2 ώρες) έγινε μείωση του πληθυσμού από 200 σε 50."
      ]
    },
    {
      "cell_type": "markdown",
      "metadata": {
        "id": "qP6gG7AtwPNq"
      },
      "source": [
        "### **Β1. Σχεδιασμός ΓΑ**"
      ]
    },
    {
      "cell_type": "markdown",
      "metadata": {
        "id": "Rwpt1SLBwdPg"
      },
      "source": [
        "#### α) Κωδικοποίηση\n",
        "Για την κωδικοποίηση των ατόμων του πληθυσμού επιλέχθηκε ένα array μήκους 784 (=28*28) όσες δηλαδή και οι είσοδοι του νευρωσικού. Οι τιμές που μπορεί να πάρει κάθε θέση είναι \"ενεργοποιημένη είσοδος\" = 1 ή \"απενεργοποιημένη είσοδος\" = 0."
      ]
    },
    {
      "cell_type": "markdown",
      "metadata": {
        "id": "DQgRZG46wi5O"
      },
      "source": [
        "#### β) Αρχικός πληθυσμός\n",
        "Ο αρχικός πληθυσμός αρχικοποιείται τυχαία με τιμές 0 και 1."
      ]
    },
    {
      "cell_type": "markdown",
      "metadata": {
        "id": "I8rQRRyowlpA"
      },
      "source": [
        "#### γ) Συνάρτηση καταλληλόλητας\n",
        "Η συνάρτηση καταλληλόλητας που επιλέχθηκε είναι η ακόλουθη: \n",
        "\n",
        "$eval(Individual) = \\frac{CEloss(Individual)*\\left( 1 + \\frac{sum(Individual)}{784} \\right)}{2}$\n",
        "\n",
        "Αρχικά σε αντίθεση με το accuracy το CEloss εκφράζει καλύτερα το ποσό σίγουρο είναι το δίκτυο για το αποτέλεσμα που δίνει. Για άτομα μέσα στον πληθυσμό που χρησιμοποιούν πολλές εισόδους εισάγετε σφάλμα ανάλογο του loss και συγκεκριμένα αν ένα άτομο χρησιμοποιεί όλες τις εισόδους το σφάλμα που εισάγετε από την χρήση των εισόδων είναι 0.5*CEloss(inidvidual) αρά το συνολικό σφάλμα είναι CEloss. Επόμενος είναι σαν το CEloss να εισάγει μια επιείκεια για μικρές εισόδους. Επίσης μεγαλύτερο eval σημαίνει μικρότερη καταλληλόλητα και αρά το πρόβλημα πρέπει να εκφραστεί ως minimization.\n"
      ]
    },
    {
      "cell_type": "markdown",
      "metadata": {
        "id": "-n5S6PjDwl0h"
      },
      "source": [
        "#### δ) Γενετικοί Τελεστές\n",
        "\n",
        "1. Η συνάρτηση επιλογής που θα χρησιμοποιηθεί για το πρόβλημα είναι του τουρνουά λόγο της αποδοτικότητας του (μπορεί να υλοποιηθεί παράλληλα) σε σχέση με την ρουλέτα με βάση την κατάταξη (απαιτεί sorting) και δεν διατρέχει το κίνδυνο της πρόωρης σύγκλισης όπως η ρουλέτα με βάση την καταλληλόλητα. \n",
        "1. Η χρήση ομοιόμορφης διασταύρωσης είναι καταλληλότερη για το πρόβλημα αφού είναι πιο αποτελεσματική στο συνδυασμό σχημάτων από την διασταύρωση μονού και διπλού σημείου συμφώνα με την θεωρία.\n",
        "1. Η χρήση ελιτισμού είναι θεμιτή καθώς αποτρέπει την μείωση της ποιότητας της βέλτιστης λύσης από την μια γενεά στην άλλη."
      ]
    },
    {
      "cell_type": "markdown",
      "metadata": {
        "id": "NIjRZbDZwl8o"
      },
      "source": [
        "### **Β2. Υλοποίηση ΓΑ**"
      ]
    },
    {
      "cell_type": "markdown",
      "metadata": {
        "id": "qtnFwXyEKpIn"
      },
      "source": [
        "Η υλοποίηση έγινε με Python και τις βιβλιοθήκες numpy, pytorch και deap."
      ]
    },
    {
      "cell_type": "code",
      "metadata": {
        "id": "18--D_IfK25z",
        "colab": {
          "base_uri": "https://localhost:8080/"
        },
        "outputId": "05b011c7-28a4-4fe9-cd61-321b366fca4b"
      },
      "source": [
        "# !pip install torch\n",
        "# !pip install numpy\n",
        "# !pip install torchvision\n",
        "!pip install deap"
      ],
      "execution_count": 3,
      "outputs": [
        {
          "output_type": "stream",
          "text": [
            "Collecting deap\n",
            "\u001b[?25l  Downloading https://files.pythonhosted.org/packages/99/d1/803c7a387d8a7e6866160b1541307f88d534da4291572fb32f69d2548afb/deap-1.3.1-cp37-cp37m-manylinux2010_x86_64.whl (157kB)\n",
            "\r\u001b[K     |██                              | 10kB 22.5MB/s eta 0:00:01\r\u001b[K     |████▏                           | 20kB 28.9MB/s eta 0:00:01\r\u001b[K     |██████▏                         | 30kB 20.5MB/s eta 0:00:01\r\u001b[K     |████████▎                       | 40kB 16.8MB/s eta 0:00:01\r\u001b[K     |██████████▍                     | 51kB 9.3MB/s eta 0:00:01\r\u001b[K     |████████████▍                   | 61kB 9.7MB/s eta 0:00:01\r\u001b[K     |██████████████▌                 | 71kB 9.6MB/s eta 0:00:01\r\u001b[K     |████████████████▋               | 81kB 10.7MB/s eta 0:00:01\r\u001b[K     |██████████████████▋             | 92kB 11.0MB/s eta 0:00:01\r\u001b[K     |████████████████████▊           | 102kB 9.1MB/s eta 0:00:01\r\u001b[K     |██████████████████████▉         | 112kB 9.1MB/s eta 0:00:01\r\u001b[K     |████████████████████████▉       | 122kB 9.1MB/s eta 0:00:01\r\u001b[K     |███████████████████████████     | 133kB 9.1MB/s eta 0:00:01\r\u001b[K     |█████████████████████████████   | 143kB 9.1MB/s eta 0:00:01\r\u001b[K     |███████████████████████████████ | 153kB 9.1MB/s eta 0:00:01\r\u001b[K     |████████████████████████████████| 163kB 9.1MB/s \n",
            "\u001b[?25hRequirement already satisfied: numpy in /usr/local/lib/python3.7/dist-packages (from deap) (1.19.5)\n",
            "Installing collected packages: deap\n",
            "Successfully installed deap-1.3.1\n"
          ],
          "name": "stdout"
        }
      ]
    },
    {
      "cell_type": "code",
      "metadata": {
        "id": "Q8A9ohxMKgkZ"
      },
      "source": [
        "import random\n",
        "import numpy as np\n",
        "import pandas as pd\n",
        "import torch\n",
        "import torchvision\n",
        "import torch.nn as nn\n",
        "import torch.nn.functional as F\n",
        "from deap import base, creator\n",
        "from deap import tools\n",
        "from tqdm.notebook import trange, tqdm\n",
        "from matplotlib import pyplot as plt"
      ],
      "execution_count": 4,
      "outputs": []
    },
    {
      "cell_type": "markdown",
      "metadata": {
        "id": "ghoKcZhdLano"
      },
      "source": [
        "#### Εκπαίδευση δικτύου σύμφωνα με το Α ερώτημα."
      ]
    },
    {
      "cell_type": "code",
      "metadata": {
        "colab": {
          "base_uri": "https://localhost:8080/"
        },
        "id": "ynsXi-8xQCpI",
        "outputId": "f3ef4093-8c16-4cd3-bb1f-101b2fd7f1da"
      },
      "source": [
        "# setting device on GPU if available, else CPU\n",
        "device = torch.device('cuda' if torch.cuda.is_available() else 'cpu')\n",
        "print('Using device:', device)"
      ],
      "execution_count": 5,
      "outputs": [
        {
          "output_type": "stream",
          "text": [
            "Using device: cuda\n"
          ],
          "name": "stdout"
        }
      ]
    },
    {
      "cell_type": "code",
      "metadata": {
        "id": "wi9mI8zGKeLy"
      },
      "source": [
        "# Download mnist dataset\n",
        "mnist_transform = torchvision.transforms.Compose([\n",
        "    torchvision.transforms.ToTensor(), \n",
        "    torchvision.transforms.Normalize((0.1307,), (0.3081,))\n",
        "])\n",
        "\n",
        "mnist_train = torchvision.datasets.MNIST(\n",
        "    './mnist/', \n",
        "    train=True, \n",
        "    download=True, \n",
        "    transform = mnist_transform)\n",
        "\n",
        "mnist_train_dl = torch.utils.data.DataLoader(\n",
        "    mnist_train,\n",
        "    batch_size=32,\n",
        "    shuffle=True,\n",
        "    num_workers=2)\n",
        "\n",
        "mnist_test = torchvision.datasets.MNIST(\n",
        "    './mnist/', \n",
        "    train=False, \n",
        "    download=True, \n",
        "    transform = mnist_transform)\n",
        "\n",
        "mnist_test_dl = torch.utils.data.DataLoader(\n",
        "    mnist_test,\n",
        "    batch_size=32,\n",
        "    shuffle=True,\n",
        "    num_workers=2)"
      ],
      "execution_count": null,
      "outputs": []
    },
    {
      "cell_type": "code",
      "metadata": {
        "id": "segyacHfQcar"
      },
      "source": [
        "# Define model with 794 hidden layer\n",
        "class ff_794_net(nn.Module):\n",
        "    def __init__(self):\n",
        "        super().__init__()\n",
        "        self.fc1 = nn.Linear(28 * 28, 794)\n",
        "        self.fc2 = nn.Linear(794, 10)\n",
        "    def forward(self, x):\n",
        "        '''Forward pass'''\n",
        "        x = x.view(-1,1,784)\n",
        "        x = self.fc1(x)\n",
        "        x = self.fc2(F.relu(x))\n",
        "        return x"
      ],
      "execution_count": 7,
      "outputs": []
    },
    {
      "cell_type": "code",
      "metadata": {
        "id": "qXMIGNbP3myT",
        "colab": {
          "base_uri": "https://localhost:8080/",
          "height": 287,
          "referenced_widgets": [
            "c7147ab6e61c45b285ca4382169d52e6",
            "ab7b0bbb008445d5b7924a1f680bd63d",
            "64424e97126c45f69ac5d3e583c0d2f9",
            "74996163406e4140b57652b9a8c9017b",
            "d600a50d1b944e0e90305b349de93971",
            "9863ef91e2484f18a1d43df6942cb5d5",
            "4c0f07a953954d458b340e3fd884df31",
            "167991742c454a9d96e3db5c5caf1065",
            "ab5535386ae749cda8c78a5da8f8f912",
            "8319b3667ed04d60a0440328ad053391",
            "f036ff2a33824ce1803eed2c229ce200",
            "06856a046ee24250ab42066a60017f5c",
            "3f548951018d4053b91eff4f419c6cd8",
            "47f7b958f4fc4a34be594ced3835a369",
            "700caf6523ea44a4a120e56079d4adc4",
            "643c2396d20d46a8971b5139b183574b",
            "95f8c6b619e049879f1e45da104ea68b",
            "b10f5cc85d5048f8be560ab3adb383fa",
            "06d53b0d769340e4a81cdf88817f694b",
            "49b8e463e4ac484aa021ab1580db805f",
            "71c041f7df7540e2ac8d2cb46152e1bf",
            "267704ee595f44e0bb6de21e1b293a87",
            "63c24ca00d294d81a43321a63024cc48",
            "031773818f1049cb9a3d204b8c2d59ea",
            "e6d1e56c51bf4772a413873ec3f4e7e6",
            "6e2b15126a5047a3841ed9d443865e3c",
            "3fd2e7d325b545668c1e55b14324429f",
            "d8659ead7828480085df77268fe964c8",
            "7f48c8a6a93d40aeb5f7bda56a3b4e51",
            "77ccab5634d74a89a28379f022e74650",
            "464429b8ccf54e1fa2c785b4e3017232",
            "81c14b26acd34540a668d4cd853cfcc8"
          ]
        },
        "outputId": "4343eb60-38de-4630-c32b-d59fae5ebe28"
      },
      "source": [
        "model = ff_794_net().to(device)\n",
        "criterion = nn.CrossEntropyLoss()\n",
        "opt = torch.optim.SGD(model.parameters(), lr=0.05, momentum= 0.6)\n",
        "epochs = 4\n",
        "\n",
        "# For each epoch...\n",
        "for epoch_i in range(0, epochs):\n",
        "    \n",
        "    # ########################################\n",
        "    #               Training\n",
        "    # ########################################\n",
        "\n",
        "    print(f'==== Epoch {epoch_i} ====')\n",
        "\n",
        "    model.train()\n",
        "\n",
        "    # For each batch of training data...\n",
        "    for (x, y) in tqdm(mnist_train_dl):\n",
        "\n",
        "        # Zero the gradients\n",
        "        opt.zero_grad()      \n",
        "\n",
        "        # Forward pass\n",
        "        pred = model(x.to(device))\n",
        "\n",
        "        loss = criterion(pred.squeeze(), y.to(device))\n",
        "\n",
        "        # Backward pass\n",
        "        loss.backward()  \n",
        "\n",
        "        # Perform optimization\n",
        "        opt.step()\n",
        "\n",
        "PATH = f\"/content/mnist_ff_794h_{epochs}e\"\n",
        "torch.save(model.state_dict(), PATH)"
      ],
      "execution_count": 8,
      "outputs": [
        {
          "output_type": "stream",
          "text": [
            "==== Epoch 0 ====\n"
          ],
          "name": "stdout"
        },
        {
          "output_type": "display_data",
          "data": {
            "application/vnd.jupyter.widget-view+json": {
              "model_id": "c7147ab6e61c45b285ca4382169d52e6",
              "version_minor": 0,
              "version_major": 2
            },
            "text/plain": [
              "HBox(children=(FloatProgress(value=0.0, max=1875.0), HTML(value='')))"
            ]
          },
          "metadata": {
            "tags": []
          }
        },
        {
          "output_type": "stream",
          "text": [
            "\n",
            "==== Epoch 1 ====\n"
          ],
          "name": "stdout"
        },
        {
          "output_type": "display_data",
          "data": {
            "application/vnd.jupyter.widget-view+json": {
              "model_id": "ab5535386ae749cda8c78a5da8f8f912",
              "version_minor": 0,
              "version_major": 2
            },
            "text/plain": [
              "HBox(children=(FloatProgress(value=0.0, max=1875.0), HTML(value='')))"
            ]
          },
          "metadata": {
            "tags": []
          }
        },
        {
          "output_type": "stream",
          "text": [
            "\n",
            "==== Epoch 2 ====\n"
          ],
          "name": "stdout"
        },
        {
          "output_type": "display_data",
          "data": {
            "application/vnd.jupyter.widget-view+json": {
              "model_id": "95f8c6b619e049879f1e45da104ea68b",
              "version_minor": 0,
              "version_major": 2
            },
            "text/plain": [
              "HBox(children=(FloatProgress(value=0.0, max=1875.0), HTML(value='')))"
            ]
          },
          "metadata": {
            "tags": []
          }
        },
        {
          "output_type": "stream",
          "text": [
            "\n",
            "==== Epoch 3 ====\n"
          ],
          "name": "stdout"
        },
        {
          "output_type": "display_data",
          "data": {
            "application/vnd.jupyter.widget-view+json": {
              "model_id": "e6d1e56c51bf4772a413873ec3f4e7e6",
              "version_minor": 0,
              "version_major": 2
            },
            "text/plain": [
              "HBox(children=(FloatProgress(value=0.0, max=1875.0), HTML(value='')))"
            ]
          },
          "metadata": {
            "tags": []
          }
        },
        {
          "output_type": "stream",
          "text": [
            "\n"
          ],
          "name": "stdout"
        }
      ]
    },
    {
      "cell_type": "code",
      "metadata": {
        "id": "oXrwIwloN5_w"
      },
      "source": [
        "def accuracy(preds, labels):\n",
        "    '''\n",
        "    Takes predictions and labels and returns accuracy (max 1)\n",
        "    '''\n",
        "    prediction = np.argmax(preds, axis=1).flatten()\n",
        "    labels = labels.flatten()\n",
        "    return np.sum(prediction == labels) / len(labels)"
      ],
      "execution_count": 12,
      "outputs": []
    },
    {
      "cell_type": "code",
      "metadata": {
        "colab": {
          "base_uri": "https://localhost:8080/",
          "height": 120,
          "referenced_widgets": [
            "4ff3124f3b024b2c8212e8c2e9ac74a4",
            "7d3e140fa58e47ffba1cafbaba0860ae",
            "d4699f29989f41aa8dcecea7070caad0",
            "cf450bf7d866424d934ad153081c4d3a",
            "be4d9930339f47978771346626b6be3c",
            "aa7f6d78331f4fa8a1a92c7a7992ed1f",
            "db022d9a5c4a44d1ae072ee0b5bf7ce4",
            "a62cac16ecfc43bb9a89a0f821e4e64f"
          ]
        },
        "id": "oIPfPG-AKjru",
        "outputId": "5b4e7b61-0f27-4596-c5a5-cc0b90686b65"
      },
      "source": [
        "# ########################################\n",
        "#               Validation\n",
        "# ########################################\n",
        "\n",
        "print(f'==== Validation ====')\n",
        "\n",
        "model.eval()\n",
        "\n",
        "# Tracking variables \n",
        "total_eval_accuracy = 0\n",
        "\n",
        "# Evaluate data\n",
        "for x, y in tqdm(mnist_test_dl):    \n",
        "    \n",
        "    with torch.no_grad():        \n",
        "        # Forward pass\n",
        "        pred = model(x.to(device))\n",
        "        pred = pred.squeeze()\n",
        "\n",
        "    # Move logits and labels to CPU\n",
        "    pred = pred.detach().cpu().numpy()\n",
        "    y = y.to('cpu').numpy()\n",
        "\n",
        "    # Calculate accuracy\n",
        "    total_eval_accuracy += accuracy(pred, y)\n",
        "\n",
        "print('')\n",
        "print(\"accuracy: \", total_eval_accuracy / len(mnist_test_dl))"
      ],
      "execution_count": 13,
      "outputs": [
        {
          "output_type": "stream",
          "text": [
            "==== Validation ====\n"
          ],
          "name": "stdout"
        },
        {
          "output_type": "display_data",
          "data": {
            "application/vnd.jupyter.widget-view+json": {
              "model_id": "4ff3124f3b024b2c8212e8c2e9ac74a4",
              "version_minor": 0,
              "version_major": 2
            },
            "text/plain": [
              "HBox(children=(FloatProgress(value=0.0, max=313.0), HTML(value='')))"
            ]
          },
          "metadata": {
            "tags": []
          }
        },
        {
          "output_type": "stream",
          "text": [
            "\n",
            "\n",
            "accuracy:  0.9800319488817891\n"
          ],
          "name": "stdout"
        }
      ]
    },
    {
      "cell_type": "markdown",
      "metadata": {
        "id": "alS9nb1OLnUB"
      },
      "source": [
        "#### Υλοποίηση Γ.Α."
      ]
    },
    {
      "cell_type": "markdown",
      "metadata": {
        "id": "eWNdkNcWYoow"
      },
      "source": [
        "##### Υλοποίηση κλάσεων και συναρτήσεων γενετικού αλγορίθμου"
      ]
    },
    {
      "cell_type": "code",
      "metadata": {
        "id": "pastwVX5LwMX"
      },
      "source": [
        "def evaluate(model, test_dl, individual):\n",
        "    '''\n",
        "    Calculate fitness for given individual\n",
        "\n",
        "        Parameters:\n",
        "            model: trained network\n",
        "            test_dl: dataloader to test individual\n",
        "            individual: tensor of size 784 states which inputs are activated\n",
        "\n",
        "        Returns:\n",
        "            fitness: (CEloss*(1 + sum(individual)/784)/2\n",
        "    '''\n",
        "    \n",
        "    # Init loss function\n",
        "    criterion = nn.CrossEntropyLoss()\n",
        "\n",
        "    # Change view of individual tensor\n",
        "    individual = torch.tensor(individual).view(28,28).float()\n",
        "\n",
        "    model.eval()\n",
        "\n",
        "    total_eval_loss = 0\n",
        "\n",
        "    # Evaluate data for one epoch\n",
        "    for x, y in test_dl: \n",
        "\n",
        "        with torch.no_grad():        \n",
        "            # Multiply each image by individual\n",
        "            x = x.to(device) * individual.to(device)\n",
        "\n",
        "            # Forward pass\n",
        "            pred = model(x)\n",
        "            pred = pred.squeeze()\n",
        "\n",
        "            # Calculate accuracy\n",
        "            total_eval_loss += criterion(pred, y.to(device))\n",
        "\n",
        "    # Calculate average loss\n",
        "    avg_ce_loss = (total_eval_loss/len(test_dl)).item()\n",
        "\n",
        "    # Count activated input neurons\n",
        "    ind_sum = sum(individual.view(784)).item()\n",
        "\n",
        "    # print('ind_sum: ', ind_sum/784)\n",
        "    # print('avg_loss: ', avg_ce_loss)\n",
        "\n",
        "    fitness = (avg_ce_loss * (1 + ind_sum/784))/2\n",
        "\n",
        "    return (fitness,)"
      ],
      "execution_count": null,
      "outputs": []
    },
    {
      "cell_type": "code",
      "metadata": {
        "id": "KXknHNAPrFF8"
      },
      "source": [
        "class EndCriterion:\n",
        "    '''\n",
        "    Class to decide when to stop G.A\n",
        "\n",
        "    ...\n",
        "\n",
        "    Attributes\n",
        "    ----------\n",
        "    k : int\n",
        "        max times condition can be true\n",
        "    count : int\n",
        "        counts times condition is true\n",
        "\n",
        "    Methods\n",
        "    -------\n",
        "    __call__(current_loss_list):\n",
        "        if condtion is true increase count\n",
        "        returns True if count == k\n",
        "    '''   \n",
        "\n",
        "    def __init__(self, k):\n",
        "        self.k = k\n",
        "        self.counter = 0\n",
        "    \n",
        "    def __call__(self, log_best_ind_fit):\n",
        "        \n",
        "        if len(log_best_ind_fit) < 2:\n",
        "            return False\n",
        "\n",
        "        # If fitness improved less than 1%\n",
        "        inc_perc = log_best_ind_fit[-1] - log_best_ind_fit[-2]\n",
        "        inc_perc = inc_perc / log_best_ind_fit[-2]\n",
        "        cond = abs(inc_perc) < 0.01\n",
        "\n",
        "        # If condition is True increase counter    \n",
        "        if cond: \n",
        "            self.counter += 1\n",
        "        else:\n",
        "            self.counter = 0\n",
        "            return False\n",
        "        \n",
        "        # If counter value is greater equal than k break\n",
        "        if self.counter >= self.k:\n",
        "            return True\n",
        "\n",
        "        return False"
      ],
      "execution_count": null,
      "outputs": []
    },
    {
      "cell_type": "code",
      "metadata": {
        "id": "0w8K1zuFBhS1"
      },
      "source": [
        "def run_ga(pop_size, cx_pb, mut_pb, num_gen, toolbox, end_criterion):\n",
        "    '''\n",
        "    Calculate fitness for given individual\n",
        "\n",
        "        Parameters:\n",
        "            pop_size: population size\n",
        "            cx_pb: propability of crossover\n",
        "            mut_pb: propability of mutation\n",
        "            num_gen: max number of generations\n",
        "            toolbox(deap.toolbox): container of genetic operations \n",
        "            end_criterion(EndCriterion): Criterion to end G.A\n",
        "\n",
        "        Returns:\n",
        "            results(dict): {\n",
        "                'pop': final population, \n",
        "                'log': accumulated loss for each gen, \n",
        "                'best': best individual\n",
        "            }\n",
        "    '''\n",
        "\n",
        "    print('G.A algorithm started...')\n",
        "    \n",
        "    pop = toolbox.population(n=pop_size)\n",
        "\n",
        "    hof = tools.HallOfFame(1)\n",
        "    best_ind_fitness = 0\n",
        "    log_best_ind_fit = []\n",
        "\n",
        "    # Evaluate the entire population\n",
        "    fitnesses = map(toolbox.evaluate, pop)\n",
        "    for ind, fit in zip(pop, fitnesses):\n",
        "        ind.fitness.values = fit\n",
        "\n",
        "    for g in range(num_gen):\n",
        "        print(f'==== Generation {g} ====')\n",
        "\n",
        "        hof.update(pop)\n",
        "\n",
        "        # Select the next generation individuals\n",
        "        offspring = toolbox.select(pop, len(pop))\n",
        "        # Clone the selected individuals\n",
        "        offspring = [toolbox.clone(item) for item in offspring]\n",
        "\n",
        "        # Apply crossover and mutation on the offspring\n",
        "        for child1, child2 in zip(offspring[::2], offspring[1::2]):\n",
        "            if random.random() < cx_pb:\n",
        "                toolbox.mate(child1, child2)\n",
        "                del child1.fitness.values\n",
        "                del child2.fitness.values\n",
        "\n",
        "        for mutant in offspring:\n",
        "            if random.random() < mut_pb:\n",
        "                toolbox.mutate(mutant)\n",
        "                del mutant.fitness.values\n",
        "\n",
        "        # Evaluate the individuals with an invalid fitness\n",
        "        invalid_ind = [ind for ind in offspring if not ind.fitness.valid]\n",
        "        fitnesses = map(toolbox.evaluate, invalid_ind)\n",
        "        for ind, fit in zip(invalid_ind, fitnesses):\n",
        "            ind.fitness.values = fit\n",
        "\n",
        "        # The population is entirely replaced by the offspring\n",
        "        pop[:] = offspring\n",
        "\n",
        "        # Find best individual and log its fitness\n",
        "        best_ind = toolbox.sel_best(pop + hof[:])\n",
        "        log_best_ind_fit.append(best_ind[0].fitness.values[0])\n",
        "\n",
        "        # Check end criterion\n",
        "        if end_criterion(log_best_ind_fit):\n",
        "            print(f'G.A stoped in gen {g+1} because')\n",
        "            print(f'fitness has not decreased for {end_criterion.k} gens')\n",
        "            break\n",
        "\n",
        "        print(f'best ind fitness: {log_best_ind_fit[-1]}')\n",
        "\n",
        "    return {'pop': pop, 'log': log_best_ind_fit, 'best': best_ind[0]}"
      ],
      "execution_count": null,
      "outputs": []
    },
    {
      "cell_type": "markdown",
      "metadata": {
        "id": "natH7t3YckR9"
      },
      "source": [
        "##### Test Γενετικού αλγορίθμου."
      ]
    },
    {
      "cell_type": "code",
      "metadata": {
        "colab": {
          "base_uri": "https://localhost:8080/"
        },
        "id": "WdXf0a1X4YwV",
        "outputId": "82858ed2-ad68-404a-f98b-46359628c45a"
      },
      "source": [
        "# Test fitness function\n",
        "\n",
        "print(\"random inputs activated\")\n",
        "print('fitness: ', evaluate(model, mnist_test_dl, np.random.randint(0, high=2, size=(28,28))))\n",
        "\n",
        "print('')\n",
        "print(\"all inputs activated\")\n",
        "print('fitness: ', evaluate(model, mnist_test_dl, np.ones((28,28))))"
      ],
      "execution_count": null,
      "outputs": [
        {
          "output_type": "stream",
          "text": [
            "random inputs activated\n",
            "fitness:  (0.1498277999973875,)\n",
            "\n",
            "all inputs activated\n",
            "fitness:  (0.06220488250255585,)\n"
          ],
          "name": "stdout"
        }
      ]
    },
    {
      "cell_type": "code",
      "metadata": {
        "id": "TqzLRkjcGia5"
      },
      "source": [
        "# Test genetic algorithm\n",
        "\n",
        "IND_SIZE = 784\n",
        "\n",
        "# register deap functions for the g.a problem\n",
        "creator.create(\"FitnessMin\", base.Fitness, weights=(-1.0,))\n",
        "creator.create(\"Individual\", list, fitness=creator.FitnessMin)\n",
        "\n",
        "# Init population with random zeros and ones\n",
        "toolbox = base.Toolbox()\n",
        "toolbox.register(\"attribute\", random.randint, 0, 1)\n",
        "toolbox.register(\"individual\", tools.initRepeat, creator.Individual,\n",
        "                 toolbox.attribute, n=IND_SIZE)\n",
        "toolbox.register(\"population\", tools.initRepeat, list, toolbox.individual)\n",
        "\n",
        "# Register genetic operrands\n",
        "toolbox.register(\"mate\", tools.cxUniform, indpb=0.2)\n",
        "toolbox.register(\"mutate\", tools.mutFlipBit, indpb=2/784)\n",
        "toolbox.register(\"select\", tools.selTournament, tournsize=2)\n",
        "toolbox.register(\"evaluate\", evaluate, model, mnist_test_dl)\n",
        "toolbox.register(\"sel_best\", tools.selBest, k=1)\n",
        "\n",
        "# Run G.A\n",
        "# pop = run_ga(20, 0.6, 0.01, 20, toolbox, EndCriterion(10))"
      ],
      "execution_count": null,
      "outputs": []
    },
    {
      "cell_type": "markdown",
      "metadata": {
        "id": "5tEfOrGqc9R-"
      },
      "source": [
        "##### Υλοποίηση βοηθητικών συναρτήσεων."
      ]
    },
    {
      "cell_type": "code",
      "metadata": {
        "id": "t4nhtcCUI7mY"
      },
      "source": [
        "# Caluculate mean of lists with different sizes\n",
        "# From stackOverflow -> https://stackoverflow.com/a/59281468\n",
        "def tolerant_mean(arrs):\n",
        "    lens = [len(i) for i in arrs]\n",
        "    arr = np.ma.empty((np.max(lens),len(arrs)))\n",
        "    arr.mask = True\n",
        "    for idx, l in enumerate(arrs):\n",
        "        arr[:len(l),idx] = l\n",
        "    return arr.mean(axis = -1), arr.std(axis=-1)"
      ],
      "execution_count": null,
      "outputs": []
    },
    {
      "cell_type": "code",
      "metadata": {
        "id": "QqNqXyR2QD-R"
      },
      "source": [
        "# Plot individual fitness with optional save\n",
        "def plot(y, error, title, path=None):\n",
        "\n",
        "    # Range x = generations\n",
        "    x = range(1, len(y)+1)\n",
        "\n",
        "    # Create subplots\n",
        "    plt.title(title, fontsize=16)\n",
        "    \n",
        "    # Show axes labels\n",
        "    plt.xlabel('generation')\n",
        "    plt.ylabel('loss')\n",
        "\n",
        "    # Plot values\n",
        "    plt.plot(x, y)\n",
        "    plt.fill_between(x, y-error, y+error, alpha=0.2)\n",
        "    plt.xticks(x, x)\n",
        "\n",
        "    # Save\n",
        "    if path:\n",
        "        plt.savefig(f'{path}/{title}.png', dpi=300, bbox_inches='tight')\n",
        "\n",
        "    # Show\n",
        "    plt.show()"
      ],
      "execution_count": null,
      "outputs": []
    },
    {
      "cell_type": "markdown",
      "metadata": {
        "id": "ruEtF8bGwmKW"
      },
      "source": [
        "### **Β3. Αξιολόγηση και Επίδραση Παραμέτρων**"
      ]
    },
    {
      "cell_type": "code",
      "metadata": {
        "id": "QMTTiPQClmm7"
      },
      "source": [
        "import statistics\n",
        "import json\n",
        "\n",
        "# Define genetic algorithm parameters\n",
        "NUM_OF_GEN = 20\n",
        "TIMES = 3\n",
        "INC = 6\n",
        "\n",
        "# pop_size, cx_pb, mut_pb\n",
        "parameter_list = [\n",
        "    #(20, 0.6, 0.00),\n",
        "    #(20, 0.6, 0.01),\n",
        "    #(20, 0.6, 0.10),\n",
        "    #(20, 0.9, 0.01),\n",
        "    #(20, 0.1, 0.01),\n",
        "    (50, 0.6, 0.00),\n",
        "    (50, 0.6, 0.01),\n",
        "    (50, 0.6, 0.10),\n",
        "    (50, 0.9, 0.01),\n",
        "    (50, 0.1, 0.01)          \n",
        "]\n",
        "\n",
        "for i, (pop_size, cx_pb, mut_pb) in enumerate(parameter_list):\n",
        "\n",
        "    print(f'==== Run {i+1} ====')\n",
        "    print('Parameters:')\n",
        "    print(f'pop_size={pop_size}, cx_pb={cx_pb}, mut_pb={mut_pb}')\n",
        "\n",
        "    # Init list to hold results for each run\n",
        "    results = []\n",
        "\n",
        "    # Run G.A _ times to take average fitness\n",
        "    for run in trange(TIMES):\n",
        "\n",
        "        results.append(\n",
        "            run_ga(pop_size, \n",
        "                   cx_pb, \n",
        "                   mut_pb, \n",
        "                   NUM_OF_GEN, \n",
        "                   toolbox, \n",
        "                   EndCriterion(3))\n",
        "        )\n",
        "\n",
        "    # Get loss for each gen\n",
        "    log = [list(r['log']) for r in results]\n",
        "\n",
        "    # Get average gen\n",
        "    avg_gen = [len(l) for l in log]\n",
        "    avg_gen = statistics.mean(avg_gen)\n",
        "\n",
        "    # Get average best individual\n",
        "    avg_b_ind = [r['best'].fitness.values[0] for r in results]\n",
        "    avg_b_ind = statistics.mean(avg_b_ind)\n",
        "\n",
        "    # Calculate mean of loss\n",
        "    y, error = tolerant_mean(log)\n",
        "\n",
        "    # Save data\n",
        "    r_file = f'/content/drive/MyDrive/mnist_ga/results/reduced_r{i+INC}.json'\n",
        "    with open(r_file, 'w') as fout:\n",
        "        json.dump({\n",
        "            'avg_gen': avg_gen, \n",
        "            'avg_b_ind': avg_b_ind,\n",
        "            'plot_v': (y.tolist(), error.tolist()),\n",
        "            'best_inds': [(r['best'], r['best'].fitness.values[0]) for r in results]\n",
        "        }, fout)\n",
        "\n",
        "    # Plot avg loss and save\n",
        "    plot(y, \n",
        "         error, \n",
        "         f'average_loss_reduced_{i+INC}',\n",
        "         path='/content/drive/MyDrive/mnist_ga/plots')"
      ],
      "execution_count": null,
      "outputs": []
    },
    {
      "cell_type": "markdown",
      "metadata": {
        "id": "sZNskpMEl5dq"
      },
      "source": [
        "#### α) Πινακας αποτελεσματων"
      ]
    },
    {
      "cell_type": "code",
      "metadata": {
        "id": "Gwt6IqYGl8eU",
        "colab": {
          "base_uri": "https://localhost:8080/",
          "height": 340
        },
        "outputId": "5454981e-08f6-4bd9-c930-5547a9d44ae5"
      },
      "source": [
        "res_list = [\n",
        "    [20, 0.6, 0.00, 4, 0.097423],\n",
        "    [20, 0.6, 0.01, 4, 0.103355],\n",
        "    [20, 0.6, 0.10, 4, 0.093105],\n",
        "    [20, 0.9, 0.01, 4, 0.094460],\n",
        "    [20, 0.1, 0.01, 4, 0.108623],\n",
        "    [50, 0.6, 0.00, 12, 0.079964],\n",
        "    [50, 0.6, 0.01, 19, 0.066677],\n",
        "    [50, 0.6, 0.10, 12.6, 0.0715276],\n",
        "    [50, 0.9, 0.01, 9.3, 0.0772074],\n",
        "    [50, 0.1, 0.01, 6.3, 0.091887]          \n",
        "]\n",
        "\n",
        "res_columns = [\n",
        "    \"ΜΕΓΕΘΟΣ ΠΛΗΘΥΣΜΟΥ\", \n",
        "    \"ΠΙΘΑΝΟΤΗΤΑ ΔΙΑΣΤΑΥΡΩΣΗΣ\", \n",
        "    \"ΠΙΘΑΝΟΤΗΤΑ ΜΕΤΑΛΛΑΞΗΣ\", \n",
        "    \"ΜΕΣΗ ΤΙΜΗ ΒΕΛΤΙΣΤΟΥ\", \n",
        "    \"ΜΕΣΟΣ ΑΡΙΘΜΟΣ ΓΕΝΕΩΝ\"\n",
        "]\n",
        "\n",
        "res_table = pd.DataFrame(data=res_list, columns=res_columns)\n",
        "display(res_table)"
      ],
      "execution_count": null,
      "outputs": [
        {
          "output_type": "display_data",
          "data": {
            "text/html": [
              "<div>\n",
              "<style scoped>\n",
              "    .dataframe tbody tr th:only-of-type {\n",
              "        vertical-align: middle;\n",
              "    }\n",
              "\n",
              "    .dataframe tbody tr th {\n",
              "        vertical-align: top;\n",
              "    }\n",
              "\n",
              "    .dataframe thead th {\n",
              "        text-align: right;\n",
              "    }\n",
              "</style>\n",
              "<table border=\"1\" class=\"dataframe\">\n",
              "  <thead>\n",
              "    <tr style=\"text-align: right;\">\n",
              "      <th></th>\n",
              "      <th>ΜΕΓΕΘΟΣ ΠΛΗΘΥΣΜΟΥ</th>\n",
              "      <th>ΠΙΘΑΝΟΤΗΤΑ ΔΙΑΣΤΑΥΡΩΣΗΣ</th>\n",
              "      <th>ΠΙΘΑΝΟΤΗΤΑ ΜΕΤΑΛΛΑΞΗΣ</th>\n",
              "      <th>ΜΕΣΗ ΤΙΜΗ ΒΕΛΤΙΣΤΟΥ</th>\n",
              "      <th>ΜΕΣΟΣ ΑΡΙΘΜΟΣ ΓΕΝΕΩΝ</th>\n",
              "    </tr>\n",
              "  </thead>\n",
              "  <tbody>\n",
              "    <tr>\n",
              "      <th>0</th>\n",
              "      <td>20</td>\n",
              "      <td>0.6</td>\n",
              "      <td>0.00</td>\n",
              "      <td>4.0</td>\n",
              "      <td>0.097423</td>\n",
              "    </tr>\n",
              "    <tr>\n",
              "      <th>1</th>\n",
              "      <td>20</td>\n",
              "      <td>0.6</td>\n",
              "      <td>0.01</td>\n",
              "      <td>4.0</td>\n",
              "      <td>0.103355</td>\n",
              "    </tr>\n",
              "    <tr>\n",
              "      <th>2</th>\n",
              "      <td>20</td>\n",
              "      <td>0.6</td>\n",
              "      <td>0.10</td>\n",
              "      <td>4.0</td>\n",
              "      <td>0.093105</td>\n",
              "    </tr>\n",
              "    <tr>\n",
              "      <th>3</th>\n",
              "      <td>20</td>\n",
              "      <td>0.9</td>\n",
              "      <td>0.01</td>\n",
              "      <td>4.0</td>\n",
              "      <td>0.094460</td>\n",
              "    </tr>\n",
              "    <tr>\n",
              "      <th>4</th>\n",
              "      <td>20</td>\n",
              "      <td>0.1</td>\n",
              "      <td>0.01</td>\n",
              "      <td>4.0</td>\n",
              "      <td>0.108623</td>\n",
              "    </tr>\n",
              "    <tr>\n",
              "      <th>5</th>\n",
              "      <td>50</td>\n",
              "      <td>0.6</td>\n",
              "      <td>0.00</td>\n",
              "      <td>12.0</td>\n",
              "      <td>0.079964</td>\n",
              "    </tr>\n",
              "    <tr>\n",
              "      <th>6</th>\n",
              "      <td>50</td>\n",
              "      <td>0.6</td>\n",
              "      <td>0.01</td>\n",
              "      <td>19.0</td>\n",
              "      <td>0.066677</td>\n",
              "    </tr>\n",
              "    <tr>\n",
              "      <th>7</th>\n",
              "      <td>50</td>\n",
              "      <td>0.6</td>\n",
              "      <td>0.10</td>\n",
              "      <td>12.6</td>\n",
              "      <td>0.071528</td>\n",
              "    </tr>\n",
              "    <tr>\n",
              "      <th>8</th>\n",
              "      <td>50</td>\n",
              "      <td>0.9</td>\n",
              "      <td>0.01</td>\n",
              "      <td>9.3</td>\n",
              "      <td>0.077207</td>\n",
              "    </tr>\n",
              "    <tr>\n",
              "      <th>9</th>\n",
              "      <td>50</td>\n",
              "      <td>0.1</td>\n",
              "      <td>0.01</td>\n",
              "      <td>6.3</td>\n",
              "      <td>0.091887</td>\n",
              "    </tr>\n",
              "  </tbody>\n",
              "</table>\n",
              "</div>"
            ],
            "text/plain": [
              "   ΜΕΓΕΘΟΣ ΠΛΗΘΥΣΜΟΥ  ...  ΜΕΣΟΣ ΑΡΙΘΜΟΣ ΓΕΝΕΩΝ\n",
              "0                 20  ...              0.097423\n",
              "1                 20  ...              0.103355\n",
              "2                 20  ...              0.093105\n",
              "3                 20  ...              0.094460\n",
              "4                 20  ...              0.108623\n",
              "5                 50  ...              0.079964\n",
              "6                 50  ...              0.066677\n",
              "7                 50  ...              0.071528\n",
              "8                 50  ...              0.077207\n",
              "9                 50  ...              0.091887\n",
              "\n",
              "[10 rows x 5 columns]"
            ]
          },
          "metadata": {
            "tags": []
          }
        }
      ]
    },
    {
      "cell_type": "markdown",
      "metadata": {
        "id": "xCrI7-MVxQSD"
      },
      "source": [
        "#### β) Καμπύλες εξέλιξης"
      ]
    },
    {
      "cell_type": "code",
      "metadata": {
        "id": "BBeWyoMfyxJp"
      },
      "source": [
        "import matplotlib.image as mpimg\n",
        "import matplotlib.pyplot as plt\n",
        "\n",
        "img = []\n",
        "\n",
        "for i in range(1,6):\n",
        "    path = f'/content/drive/MyDrive/mnist_ga/plots/average_loss_{i}.png'\n",
        "    img.append(mpimg.imread(path))\n",
        "\n",
        "for i in range(6,11):\n",
        "    path = f'/content/drive/MyDrive/mnist_ga/plots/average_loss_reduced_{i}.png'\n",
        "    img.append(mpimg.imread(path)) "
      ],
      "execution_count": null,
      "outputs": []
    },
    {
      "cell_type": "code",
      "metadata": {
        "id": "DOKKv2X4t0ll"
      },
      "source": [
        "path = '/content/drive/MyDrive/mnist_ga/plots/grid.png'\n",
        "\n",
        "f, axarr = plt.subplots(5,2)\n",
        "\n",
        "for i in range(10):\n",
        "    axarr[i%5,i%2].imshow(img[i]);\n",
        "    axarr[i%5,i%2].axis('off')\n",
        "\n",
        "plt.axis('off')\n",
        "plt.savefig(path, dpi=300, bbox_inches='tight')"
      ],
      "execution_count": null,
      "outputs": []
    },
    {
      "cell_type": "markdown",
      "metadata": {
        "id": "lPqIvYOBzAJc"
      },
      "source": [
        "![](https://drive.google.com/uc?id=1Q9ysd3-P2gHLAuBuKZ-MyhGEORhgKUI1)"
      ]
    },
    {
      "cell_type": "markdown",
      "metadata": {
        "id": "SdA9djuPxQdu"
      },
      "source": [
        "#### γ) συμπεράσματα\n",
        "\n",
        "Αρχικά το μέγεθος του πληθυσμού παίζει πολύ σημαντικό ρολό στην σύγκληση του αλγορίθμου. Μεγαλύτεροι πληθυσμοί συγκλίνουν σε περισσότερες γενιές πετυχαίνοντας έτσι κατά μέσο ορό μικρότερο loss από μικρους πληθυσμούς. Πολύ σημαντικό ρολό στην σύγκλιση έχει και η πιθανότητα διασταύρωσης καθώς με μικρές τιμές ο αλγόριθμος δεν μπορεί να εξερευνήσει αποδοτικά τον χώρο λύσεων.  Τέλος από τα αποτελέσματα ο ρόλος της πιθανότητας μετάλλαξής ως προς την ταχύτητα σύγκλισης δεν είναι ξεκάθαρος ωστόσο πειράματα με πιθανότητα μετάλλαξης 0 αποδίδουν ελαφρός χειροτέρα (μεγαλύτερο loss) κατά μεσο ορο."
      ]
    },
    {
      "cell_type": "markdown",
      "metadata": {
        "id": "Hzel3jFaw1ql"
      },
      "source": [
        "### **Β4. Αξιολόγηση ΤΝΔ**"
      ]
    },
    {
      "cell_type": "markdown",
      "metadata": {
        "id": "3VcH6m2X_ID3"
      },
      "source": [
        "#### α) Σύγκριση απόδοσης"
      ]
    },
    {
      "cell_type": "code",
      "metadata": {
        "id": "g2DIuAWEOH1o"
      },
      "source": [
        "# Load result file\n",
        "import json\n",
        "\n",
        "EXPERIMENT = 7\n",
        "RUN = 1\n",
        "path = f'/content/drive/MyDrive/mnist_ga/results/reduced_r{EXPERIMENT}.json'\n",
        "\n",
        "with open(path) as f:\n",
        "  res_7 = json.load(f)\n",
        "\n",
        "best_ind = res_7['best_inds'][RUN][0]\n",
        "best_ind = torch.tensor(best_ind)\n",
        "\n",
        "activated_neurons = sum(best_ind)\n",
        "\n",
        "best_ind = best_ind.view(28,28).float()"
      ],
      "execution_count": 23,
      "outputs": []
    },
    {
      "cell_type": "code",
      "metadata": {
        "id": "_leapOBmwfXU"
      },
      "source": [
        "# ########################################\n",
        "#               Validation\n",
        "# ########################################\n",
        "\n",
        "print(f'==== Validation ====')\n",
        "\n",
        "#best_ind = torch.tensor(best_ind).view(28,28).float()\n",
        "\n",
        "model.eval()\n",
        "\n",
        "# Tracking variables \n",
        "total_eval_accuracy = 0\n",
        "\n",
        "# Evaluate data\n",
        "for x, y in tqdm(mnist_train_dl):    \n",
        "    \n",
        "    with torch.no_grad():        \n",
        "        # Multiply each image by individual\n",
        "        x = x.to(device) * best_ind.to(device)\n",
        "\n",
        "        # Forward pass\n",
        "        pred = model(x.to(device))\n",
        "        pred = pred.squeeze()\n",
        "\n",
        "    # Move logits and labels to CPU\n",
        "    pred = pred.detach().cpu().numpy()\n",
        "    y = y.to('cpu').numpy()\n",
        "\n",
        "    # Calculate accuracy\n",
        "    total_eval_accuracy += accuracy(pred, y)\n",
        "\n",
        "print('')\n",
        "print(\n",
        "    f'''\n",
        "    experiment: {EXPERIMENT}\n",
        "    activated input neurons: {activated_neurons}\n",
        "    fittness: {res_7['best_inds'][RUN][1]}\n",
        "    accuracy:  {total_eval_accuracy / len(mnist_train_dl)}\n",
        "    '''\n",
        ")"
      ],
      "execution_count": null,
      "outputs": []
    },
    {
      "cell_type": "code",
      "metadata": {
        "colab": {
          "base_uri": "https://localhost:8080/",
          "height": 283
        },
        "id": "uFYWxceJQnrc",
        "outputId": "a391e060-8790-42f7-8c8b-66d97ad7f67f"
      },
      "source": [
        "# Show active input neurons of given individual\n",
        "plt.imshow(best_ind)"
      ],
      "execution_count": 24,
      "outputs": [
        {
          "output_type": "execute_result",
          "data": {
            "text/plain": [
              "<matplotlib.image.AxesImage at 0x7fe25c50b890>"
            ]
          },
          "metadata": {
            "tags": []
          },
          "execution_count": 24
        },
        {
          "output_type": "display_data",
          "data": {
            "image/png": "[encoded data removed]",
            "text/plain": [
              "<Figure size 432x288 with 1 Axes>"
            ]
          },
          "metadata": {
            "tags": [],
            "needs_background": "light"
          }
        }
      ]
    },
    {
      "cell_type": "markdown",
      "metadata": {
        "id": "MTu0XCdONiS5"
      },
      "source": [
        "1.\tΤο βέλτιστο δυτικό που προέκυψε από τον γενετικό αλγόριθμο πετυχαίνει accuracy 0.96 ελαφρός χειρότερο από το αρχικό δίκτυο (accuracy = 0.98) του μέρους Α.\n",
        "\n",
        "2.\tΗ επίδραση της μειώσεις το χαρακτηριστικών είναι πολύ μικρή και με περεταίρω εκπαίδευση αναμένετε να μειωθεί ακόμα περισσότερο. Τα χαρακτηριστικά που διαγράφονται τείνουν να είναι τυχαία κατανεμημένα με μια ελαφριά προτίμηση προς το περίγραμμά της εικόνας. \n",
        "\n",
        "3.\tΤο ενδεχόμενο υπερπροσαρμογής στα δεδομένα ελέγχου δεν επιβεβαιώνετε από το testing καθώς το δίκτυο πετυχαίνει σε πολλές περιπτώσεις καλύτερο accuracy στο training set.\n"
      ]
    },
    {
      "cell_type": "markdown",
      "metadata": {
        "id": "pcNV6XHq_XX8"
      },
      "source": [
        "#### β) Επανεκπαίδευση και σύγκριση απόδοσης"
      ]
    },
    {
      "cell_type": "markdown",
      "metadata": {
        "id": "YngN-fG_d5L0"
      },
      "source": [
        "1.\tΕπανεκπαιδεύοντας το δίκτυο με μειόμενο αριθμό εισόδων περνούμε accuracy 98% ίδιο με το αρχικό μοντέλο. Αρά το δίκτυο έχει επαρκή γενικευτική ικανότητά.\n",
        "\n",
        "2.  Η επιλογή χαρακτηριστικών πλέον δεν επηρεάζει το accuracy του δικτύου.\n",
        "\n",
        "3.\tΤο μοντέλο εξακολουθεί να μην εμφανίζει υπερπροσαρμογή στα δεδομένα."
      ]
    },
    {
      "cell_type": "code",
      "metadata": {
        "id": "UkK-1aJi4V9a"
      },
      "source": [
        "# Define model with 794 hidden layer\n",
        "class ff_ga_794_net(nn.Module):\n",
        "    def __init__(self, activated_neurons):\n",
        "        super().__init__()\n",
        "        self.fc1 = nn.Linear(activated_neurons, 794)\n",
        "        self.fc2 = nn.Linear(794, 10)\n",
        "    def forward(self, x):\n",
        "        '''Forward pass'''\n",
        "        x = self.fc1(x)\n",
        "        x = self.fc2(F.relu(x))\n",
        "        return x"
      ],
      "execution_count": 25,
      "outputs": []
    },
    {
      "cell_type": "code",
      "metadata": {
        "id": "bDoFJcRnAIXh"
      },
      "source": [
        "import json\n",
        "EXPERIMENT = 7\n",
        "RUN = 1\n",
        "path = f'/content/drive/MyDrive/mnist_ga/results/reduced_r{EXPERIMENT}.json'\n",
        "\n",
        "with open(path) as f:\n",
        "  res_7 = json.load(f)\n",
        "\n",
        "best_ind = res_7['best_inds'][RUN][0]\n",
        "activated_neurons = sum(best_ind)\n",
        "\n",
        "model = ff_ga_794_net(activated_neurons).to(device)\n",
        "criterion = nn.CrossEntropyLoss()\n",
        "opt = torch.optim.SGD(model.parameters(), lr=0.05, momentum= 0.6)\n",
        "epochs = 4\n",
        "\n",
        "# For each epoch...\n",
        "for epoch_i in range(0, epochs):\n",
        "    \n",
        "    # ########################################\n",
        "    #               Training\n",
        "    # ########################################\n",
        "\n",
        "    print(f'==== Epoch {epoch_i} ====')\n",
        "\n",
        "    best_ind = torch.tensor(best_ind).float()\n",
        "\n",
        "    model.train()\n",
        "\n",
        "    # For each batch of training data...\n",
        "    for (x, y) in tqdm(mnist_train_dl):\n",
        "\n",
        "        # Zero the gradients\n",
        "        opt.zero_grad()      \n",
        "\n",
        "        # Forward pass\n",
        "        x = x.view(-1,1, 784)\n",
        "        x = torch.masked_select(x, best_ind>0)\n",
        "        x = x.view(-1,1, activated_neurons)\n",
        "\n",
        "        pred = model(x.to(device))\n",
        "\n",
        "        loss = criterion(pred.squeeze(), y.to(device))\n",
        "\n",
        "        # Backward pass\n",
        "        loss.backward()  \n",
        "\n",
        "        # Perform optimization\n",
        "        opt.step()\n",
        "\n",
        "PATH = f\"/content/mnist_ff_794h_{epochs}e\"\n",
        "torch.save(model.state_dict(), PATH)"
      ],
      "execution_count": null,
      "outputs": []
    },
    {
      "cell_type": "code",
      "metadata": {
        "colab": {
          "base_uri": "https://localhost:8080/",
          "height": 191,
          "referenced_widgets": [
            "38dc2f62376944f69f1217e6819b9170",
            "e97c65fc1e7448d288c5f07583cc022c",
            "224f3eb5c8aa4339ad34fa10d700e626",
            "7318acf3b42e4248b57d8f4548f97de9",
            "416664dbe2fe4e1e9bf8410194ce5455",
            "2d2f447667844d27a9e9006c44c6ce5a",
            "742d7c7e6ad24545be4ffce773920ce0",
            "149c04a2722c4f78b0494c9345eafd9d"
          ]
        },
        "id": "NfOrIQcGExkP",
        "outputId": "8b348c48-e45d-4490-ac82-46abd435329d"
      },
      "source": [
        "# ########################################\n",
        "#               Validation\n",
        "# ########################################\n",
        "\n",
        "print(f'==== Validation ====')\n",
        "\n",
        "model.eval()\n",
        "\n",
        "# Tracking variables \n",
        "total_eval_accuracy = 0\n",
        "\n",
        "# Evaluate data\n",
        "for x, y in tqdm(mnist_test_dl):    \n",
        "    \n",
        "    with torch.no_grad():        \n",
        "        # Multiply each image by individual\n",
        "        x = x.view(-1,1, 784)\n",
        "        x = torch.masked_select(x, best_ind>0)\n",
        "        x = x.view(-1,1, activated_neurons)\n",
        "\n",
        "        # Forward pass\n",
        "        pred = model(x.to(device))\n",
        "        pred = pred.squeeze()\n",
        "\n",
        "    # Move logits and labels to CPU\n",
        "    pred = pred.detach().cpu().numpy()\n",
        "    y = y.to('cpu').numpy()\n",
        "\n",
        "    # Calculate accuracy\n",
        "    total_eval_accuracy += accuracy(pred, y)\n",
        "\n",
        "print(\n",
        "    f'''\n",
        "    experiment: {EXPERIMENT}\n",
        "    activated input neurons: {activated_neurons}\n",
        "    fittness: {res_7['best_inds'][RUN][1]}\n",
        "    accuracy:  {total_eval_accuracy / len(mnist_test_dl)}\n",
        "    '''\n",
        ")"
      ],
      "execution_count": 29,
      "outputs": [
        {
          "output_type": "stream",
          "text": [
            "==== Validation ====\n"
          ],
          "name": "stdout"
        },
        {
          "output_type": "display_data",
          "data": {
            "application/vnd.jupyter.widget-view+json": {
              "model_id": "38dc2f62376944f69f1217e6819b9170",
              "version_minor": 0,
              "version_major": 2
            },
            "text/plain": [
              "HBox(children=(FloatProgress(value=0.0, max=313.0), HTML(value='')))"
            ]
          },
          "metadata": {
            "tags": []
          }
        },
        {
          "output_type": "stream",
          "text": [
            "\n",
            "\n",
            "    experiment: 7\n",
            "    activated input neurons: 417\n",
            "    fittness: 0.06424095224094938\n",
            "    accuracy:  0.9788338658146964\n",
            "    \n"
          ],
          "name": "stdout"
        }
      ]
    }
  ]
}